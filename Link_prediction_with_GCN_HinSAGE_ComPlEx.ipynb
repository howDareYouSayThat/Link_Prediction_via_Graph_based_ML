{
  "cells": [
    {
      "cell_type": "markdown",
      "metadata": {
        "id": "n_QFEOSEJhAw"
      },
      "source": [
        "# Graph-based Machine Learning Algorithm applying on Biomedical Knowledge Graph\n",
        "\n",
        "\n",
        "1.   Evaluating each model via citation network\n",
        "2.   Applying the Hetionet database on the best-performance model\n",
        "\n"
      ]
    },
    {
      "cell_type": "markdown",
      "source": [
        "## Preparation"
      ],
      "metadata": {
        "id": "Taa6gf9h3sks"
      }
    },
    {
      "cell_type": "code",
      "execution_count": null,
      "metadata": {
        "id": "UNksAOt_GWex"
      },
      "outputs": [],
      "source": [
        "!pip install stellargraph\n",
        "!pip install py2neo"
      ]
    },
    {
      "cell_type": "code",
      "source": [
        "import pandas as pd\n",
        "import py2neo\n",
        "from stellargraph import StellarDiGraph, StellarGraph\n",
        "from sklearn import preprocessing\n",
        "import numpy as np\n",
        "from stellargraph import datasets\n",
        "\n",
        "Hetio_graph = py2neo.Graph(\"bolt+s://neo4j.het.io:7687\")"
      ],
      "metadata": {
        "id": "lyc4Xmzxet-3"
      },
      "execution_count": 324,
      "outputs": []
    },
    {
      "cell_type": "code",
      "source": [
        "# Return a result data frame\n",
        "def match_in_hetio(graph, query):\n",
        "    cursor = graph.run(query)\n",
        "    result_df = pd.DataFrame.from_records(cursor, columns=cursor.keys())\n",
        "    return result_df"
      ],
      "metadata": {
        "id": "POTODTFQeupy"
      },
      "execution_count": 325,
      "outputs": []
    },
    {
      "cell_type": "markdown",
      "source": [
        "### Import Citation Network"
      ],
      "metadata": {
        "id": "BykLdv61fp62"
      }
    },
    {
      "cell_type": "code",
      "source": [
        "dataset = datasets.Cora()\n",
        "G, _ = dataset.load(subject_as_feature=True)\n",
        "print(G.info())"
      ],
      "metadata": {
        "colab": {
          "base_uri": "https://localhost:8080/"
        },
        "id": "ChFjyfA4e_pn",
        "outputId": "40d53bc0-6515-4d6c-da87-26f7d3b1b59a"
      },
      "execution_count": 326,
      "outputs": [
        {
          "output_type": "stream",
          "name": "stdout",
          "text": [
            "StellarGraph: Undirected multigraph\n",
            " Nodes: 2708, Edges: 5429\n",
            "\n",
            " Node types:\n",
            "  paper: [2708]\n",
            "    Features: float32 vector, length 1440\n",
            "    Edge types: paper-cites->paper\n",
            "\n",
            " Edge types:\n",
            "    paper-cites->paper: [5429]\n",
            "        Weights: all 1 (default)\n",
            "        Features: none\n"
          ]
        }
      ]
    },
    {
      "cell_type": "markdown",
      "metadata": {
        "id": "0G1HLP-pJhAy"
      },
      "source": [
        "## Link prediction with GCN"
      ]
    },
    {
      "cell_type": "code",
      "source": [
        "import stellargraph as sg\n",
        "from stellargraph.data import EdgeSplitter\n",
        "from stellargraph.mapper import FullBatchLinkGenerator\n",
        "from stellargraph.layer import GCN, LinkEmbedding\n",
        "\n",
        "\n",
        "from tensorflow import keras\n",
        "from sklearn import preprocessing, feature_extraction, model_selection\n",
        "\n",
        "from stellargraph import globalvar\n",
        "%matplotlib inline"
      ],
      "metadata": {
        "id": "7gWRTyyKfvDd"
      },
      "execution_count": 327,
      "outputs": []
    },
    {
      "cell_type": "markdown",
      "source": [
        "### Parameters"
      ],
      "metadata": {
        "id": "07gPVPU-vPS1"
      }
    },
    {
      "cell_type": "code",
      "source": [
        "# data splitting\n",
        "p = 0.2\n",
        "\n",
        "# Creating the GCN link model\n",
        "learning_rate = 1e-3\n",
        "epochs = 100"
      ],
      "metadata": {
        "id": "Q6NVA3H-usrS"
      },
      "execution_count": 328,
      "outputs": []
    },
    {
      "cell_type": "markdown",
      "metadata": {
        "id": "IgsIX6WuJhBF"
      },
      "source": [
        "### Data splitting"
      ]
    },
    {
      "cell_type": "code",
      "execution_count": 329,
      "metadata": {
        "id": "MlT3wJzLJhBH",
        "colab": {
          "base_uri": "https://localhost:8080/"
        },
        "outputId": "2d807b41-c73c-4149-c8ae-989843d95e35"
      },
      "outputs": [
        {
          "output_type": "stream",
          "name": "stdout",
          "text": [
            "** Sampled 1085 positive and 1085 negative edges. **\n"
          ]
        }
      ],
      "source": [
        "# Define an edge splitter on the original graph G:\n",
        "edge_splitter_test = EdgeSplitter(G)\n",
        "\n",
        "# Randomly sample a fraction p=0.1 of all positive links, and same number of negative links, from G, and obtain the\n",
        "# reduced graph G_test with the sampled links removed:\n",
        "G_test, edge_ids_test, edge_labels_test = edge_splitter_test.train_test_split(\n",
        "    p, method=\"global\", keep_connected=True\n",
        ")"
      ]
    },
    {
      "cell_type": "code",
      "execution_count": 330,
      "metadata": {
        "id": "e155mZIMJhBH",
        "colab": {
          "base_uri": "https://localhost:8080/"
        },
        "outputId": "6f88cbf0-da36-4019-9131-515843eb936c"
      },
      "outputs": [
        {
          "output_type": "stream",
          "name": "stdout",
          "text": [
            "** Sampled 868 positive and 868 negative edges. **\n"
          ]
        }
      ],
      "source": [
        "# Define an edge splitter on the reduced graph G_test:\n",
        "edge_splitter_train = EdgeSplitter(G_test)\n",
        "\n",
        "# Randomly sample a fraction p=0.1 of all positive links, and same number of negative links, from G_test, and obtain the\n",
        "# reduced graph G_train with the sampled links removed:\n",
        "G_train, edge_ids_train, edge_labels_train = edge_splitter_train.train_test_split(\n",
        "    p, method=\"global\", keep_connected=True\n",
        ")"
      ]
    },
    {
      "cell_type": "markdown",
      "metadata": {
        "id": "UVCX7b_HJhBI"
      },
      "source": [
        "### Creating the GCN link model"
      ]
    },
    {
      "cell_type": "code",
      "execution_count": 331,
      "metadata": {
        "id": "Pxo3ue3HJhBJ",
        "colab": {
          "base_uri": "https://localhost:8080/"
        },
        "outputId": "0a313054-7712-49ad-9873-b10925705a6a"
      },
      "outputs": [
        {
          "output_type": "stream",
          "name": "stdout",
          "text": [
            "Using GCN (local pooling) filters...\n"
          ]
        }
      ],
      "source": [
        "train_gen = FullBatchLinkGenerator(G_train, method=\"gcn\")\n",
        "train_flow = train_gen.flow(edge_ids_train, edge_labels_train)"
      ]
    },
    {
      "cell_type": "code",
      "execution_count": 332,
      "metadata": {
        "id": "kEbsKRCpJhBK",
        "colab": {
          "base_uri": "https://localhost:8080/"
        },
        "outputId": "6b528d05-c610-4c68-cb13-5daf394b2588"
      },
      "outputs": [
        {
          "output_type": "stream",
          "name": "stdout",
          "text": [
            "Using GCN (local pooling) filters...\n"
          ]
        }
      ],
      "source": [
        "test_gen = FullBatchLinkGenerator(G_test, method=\"gcn\")\n",
        "test_flow = train_gen.flow(edge_ids_test, edge_labels_test)"
      ]
    },
    {
      "cell_type": "code",
      "execution_count": 333,
      "metadata": {
        "id": "sHLhrjxnJhBK"
      },
      "outputs": [],
      "source": [
        "gcn = GCN(\n",
        "    layer_sizes = [16, 16],\n",
        "    activations = [\"relu\", \"relu\"],\n",
        "    generator=train_gen, \n",
        "    dropout=0.4\n",
        "    # bias=True,\n",
        ")"
      ]
    },
    {
      "cell_type": "code",
      "execution_count": 334,
      "metadata": {
        "id": "9be4waZ1JhBL"
      },
      "outputs": [],
      "source": [
        "x_inp, x_out = gcn.in_out_tensors()"
      ]
    },
    {
      "cell_type": "code",
      "execution_count": 341,
      "metadata": {
        "id": "yyTn6RRtJhBL"
      },
      "outputs": [],
      "source": [
        "prediction = LinkEmbedding(activation=\"relu\", method=\"ip\")(x_out)"
      ]
    },
    {
      "cell_type": "code",
      "execution_count": 342,
      "metadata": {
        "id": "rVv1t2m5JhBM"
      },
      "outputs": [],
      "source": [
        "prediction = keras.layers.Reshape((-1,))(prediction)"
      ]
    },
    {
      "cell_type": "code",
      "execution_count": 343,
      "metadata": {
        "id": "wgHGqR-NJhBM"
      },
      "outputs": [],
      "source": [
        "model = keras.Model(inputs=x_inp, outputs=prediction)\n",
        "# ????????????????????????????????????????\n",
        "model.compile(\n",
        "    optimizer=keras.optimizers.Adam(learning_rate=learning_rate),\n",
        "    loss=keras.losses.binary_crossentropy,\n",
        "    metrics=[\"binary_accuracy\"],\n",
        ")"
      ]
    },
    {
      "cell_type": "code",
      "execution_count": 344,
      "metadata": {
        "id": "F1dKVEzUJhBN",
        "colab": {
          "base_uri": "https://localhost:8080/"
        },
        "outputId": "6193ab5f-d743-40ee-c11e-adb2ff4e971c"
      },
      "outputs": [
        {
          "output_type": "stream",
          "name": "stdout",
          "text": [
            "1/1 [==============================] - 0s 369ms/step - loss: 1.4947 - binary_accuracy: 0.5006\n",
            "1/1 [==============================] - 0s 53ms/step - loss: 1.5150 - binary_accuracy: 0.5000\n",
            "\n",
            "Train Set Metrics of the initial (untrained) model:\n",
            "\tloss: 1.4947\n",
            "\tbinary_accuracy: 0.5006\n",
            "\n",
            "Test Set Metrics of the initial (untrained) model:\n",
            "\tloss: 1.5150\n",
            "\tbinary_accuracy: 0.5000\n"
          ]
        }
      ],
      "source": [
        "init_train_metrics = model.evaluate(train_flow)\n",
        "init_test_metrics = model.evaluate(test_flow)\n",
        "\n",
        "print(\"\\nTrain Set Metrics of the initial (untrained) model:\")\n",
        "for name, val in zip(model.metrics_names, init_train_metrics):\n",
        "    print(\"\\t{}: {:0.4f}\".format(name, val))\n",
        "\n",
        "print(\"\\nTest Set Metrics of the initial (untrained) model:\")\n",
        "for name, val in zip(model.metrics_names, init_test_metrics):\n",
        "    print(\"\\t{}: {:0.4f}\".format(name, val))"
      ]
    },
    {
      "cell_type": "markdown",
      "metadata": {
        "id": "TBOWv4ZrJhBN"
      },
      "source": [
        "### Train the model:"
      ]
    },
    {
      "cell_type": "code",
      "execution_count": 345,
      "metadata": {
        "id": "bUqg91OkJhBN",
        "colab": {
          "base_uri": "https://localhost:8080/"
        },
        "outputId": "c3c37940-2828-42e5-8f9b-b4b3469c69bd"
      },
      "outputs": [
        {
          "output_type": "stream",
          "name": "stdout",
          "text": [
            "Epoch 1/100\n",
            "1/1 - 1s - loss: 1.4325 - binary_accuracy: 0.5006 - val_loss: 1.2941 - val_binary_accuracy: 0.5014 - 1s/epoch - 1s/step\n",
            "Epoch 2/100\n",
            "1/1 - 0s - loss: 1.2076 - binary_accuracy: 0.5017 - val_loss: 1.1109 - val_binary_accuracy: 0.5051 - 77ms/epoch - 77ms/step\n",
            "Epoch 3/100\n",
            "1/1 - 0s - loss: 1.0396 - binary_accuracy: 0.5127 - val_loss: 0.9617 - val_binary_accuracy: 0.5124 - 85ms/epoch - 85ms/step\n",
            "Epoch 4/100\n",
            "1/1 - 0s - loss: 0.9362 - binary_accuracy: 0.5271 - val_loss: 0.8502 - val_binary_accuracy: 0.5346 - 80ms/epoch - 80ms/step\n",
            "Epoch 5/100\n",
            "1/1 - 0s - loss: 0.8434 - binary_accuracy: 0.5449 - val_loss: 0.7712 - val_binary_accuracy: 0.5604 - 78ms/epoch - 78ms/step\n",
            "Epoch 6/100\n",
            "1/1 - 0s - loss: 0.8050 - binary_accuracy: 0.5651 - val_loss: 0.7507 - val_binary_accuracy: 0.5894 - 75ms/epoch - 75ms/step\n",
            "Epoch 7/100\n",
            "1/1 - 0s - loss: 0.8083 - binary_accuracy: 0.5887 - val_loss: 0.7753 - val_binary_accuracy: 0.5876 - 74ms/epoch - 74ms/step\n",
            "Epoch 8/100\n",
            "1/1 - 0s - loss: 1.0393 - binary_accuracy: 0.5749 - val_loss: 0.8553 - val_binary_accuracy: 0.5797 - 79ms/epoch - 79ms/step\n",
            "Epoch 9/100\n",
            "1/1 - 0s - loss: 1.0580 - binary_accuracy: 0.5639 - val_loss: 0.8960 - val_binary_accuracy: 0.5765 - 76ms/epoch - 76ms/step\n",
            "Epoch 10/100\n",
            "1/1 - 0s - loss: 1.0533 - binary_accuracy: 0.5829 - val_loss: 0.8935 - val_binary_accuracy: 0.5802 - 74ms/epoch - 74ms/step\n",
            "Epoch 11/100\n",
            "1/1 - 0s - loss: 1.2125 - binary_accuracy: 0.5662 - val_loss: 0.8635 - val_binary_accuracy: 0.5816 - 81ms/epoch - 81ms/step\n",
            "Epoch 12/100\n",
            "1/1 - 0s - loss: 1.0404 - binary_accuracy: 0.5812 - val_loss: 0.8149 - val_binary_accuracy: 0.5876 - 75ms/epoch - 75ms/step\n",
            "Epoch 13/100\n",
            "1/1 - 0s - loss: 0.9630 - binary_accuracy: 0.6112 - val_loss: 0.7783 - val_binary_accuracy: 0.5922 - 74ms/epoch - 74ms/step\n",
            "Epoch 14/100\n",
            "1/1 - 0s - loss: 0.9507 - binary_accuracy: 0.5864 - val_loss: 0.7477 - val_binary_accuracy: 0.5945 - 72ms/epoch - 72ms/step\n",
            "Epoch 15/100\n",
            "1/1 - 0s - loss: 0.8784 - binary_accuracy: 0.5824 - val_loss: 0.7405 - val_binary_accuracy: 0.5963 - 73ms/epoch - 73ms/step\n",
            "Epoch 16/100\n",
            "1/1 - 0s - loss: 0.8207 - binary_accuracy: 0.5950 - val_loss: 0.7272 - val_binary_accuracy: 0.5903 - 75ms/epoch - 75ms/step\n",
            "Epoch 17/100\n",
            "1/1 - 0s - loss: 0.7972 - binary_accuracy: 0.5876 - val_loss: 0.7354 - val_binary_accuracy: 0.5779 - 77ms/epoch - 77ms/step\n",
            "Epoch 18/100\n",
            "1/1 - 0s - loss: 0.7593 - binary_accuracy: 0.6008 - val_loss: 0.7398 - val_binary_accuracy: 0.5691 - 77ms/epoch - 77ms/step\n",
            "Epoch 19/100\n",
            "1/1 - 0s - loss: 0.8053 - binary_accuracy: 0.5858 - val_loss: 0.7554 - val_binary_accuracy: 0.5677 - 78ms/epoch - 78ms/step\n",
            "Epoch 20/100\n",
            "1/1 - 0s - loss: 0.7428 - binary_accuracy: 0.5789 - val_loss: 0.7682 - val_binary_accuracy: 0.5631 - 72ms/epoch - 72ms/step\n",
            "Epoch 21/100\n",
            "1/1 - 0s - loss: 0.7640 - binary_accuracy: 0.5881 - val_loss: 0.7772 - val_binary_accuracy: 0.5654 - 77ms/epoch - 77ms/step\n",
            "Epoch 22/100\n",
            "1/1 - 0s - loss: 0.7745 - binary_accuracy: 0.5824 - val_loss: 0.7811 - val_binary_accuracy: 0.5631 - 75ms/epoch - 75ms/step\n",
            "Epoch 23/100\n",
            "1/1 - 0s - loss: 0.7602 - binary_accuracy: 0.5801 - val_loss: 0.7805 - val_binary_accuracy: 0.5627 - 80ms/epoch - 80ms/step\n",
            "Epoch 24/100\n",
            "1/1 - 0s - loss: 0.7628 - binary_accuracy: 0.5893 - val_loss: 0.7789 - val_binary_accuracy: 0.5636 - 74ms/epoch - 74ms/step\n",
            "Epoch 25/100\n",
            "1/1 - 0s - loss: 0.7887 - binary_accuracy: 0.5927 - val_loss: 0.7728 - val_binary_accuracy: 0.5641 - 74ms/epoch - 74ms/step\n",
            "Epoch 26/100\n",
            "1/1 - 0s - loss: 0.7590 - binary_accuracy: 0.5916 - val_loss: 0.7633 - val_binary_accuracy: 0.5691 - 76ms/epoch - 76ms/step\n",
            "Epoch 27/100\n",
            "1/1 - 0s - loss: 0.7466 - binary_accuracy: 0.5968 - val_loss: 0.7512 - val_binary_accuracy: 0.5747 - 79ms/epoch - 79ms/step\n",
            "Epoch 28/100\n",
            "1/1 - 0s - loss: 0.7657 - binary_accuracy: 0.5818 - val_loss: 0.7378 - val_binary_accuracy: 0.5756 - 79ms/epoch - 79ms/step\n",
            "Epoch 29/100\n",
            "1/1 - 0s - loss: 0.7231 - binary_accuracy: 0.6043 - val_loss: 0.7247 - val_binary_accuracy: 0.5783 - 79ms/epoch - 79ms/step\n",
            "Epoch 30/100\n",
            "1/1 - 0s - loss: 0.7210 - binary_accuracy: 0.6112 - val_loss: 0.7173 - val_binary_accuracy: 0.5871 - 74ms/epoch - 74ms/step\n",
            "Epoch 31/100\n",
            "1/1 - 0s - loss: 0.6936 - binary_accuracy: 0.6118 - val_loss: 0.7087 - val_binary_accuracy: 0.5972 - 74ms/epoch - 74ms/step\n",
            "Epoch 32/100\n",
            "1/1 - 0s - loss: 0.7211 - binary_accuracy: 0.6037 - val_loss: 0.6984 - val_binary_accuracy: 0.6009 - 73ms/epoch - 73ms/step\n",
            "Epoch 33/100\n",
            "1/1 - 0s - loss: 0.7059 - binary_accuracy: 0.6417 - val_loss: 0.7006 - val_binary_accuracy: 0.6060 - 73ms/epoch - 73ms/step\n",
            "Epoch 34/100\n",
            "1/1 - 0s - loss: 0.7734 - binary_accuracy: 0.6319 - val_loss: 0.6997 - val_binary_accuracy: 0.6101 - 75ms/epoch - 75ms/step\n",
            "Epoch 35/100\n",
            "1/1 - 0s - loss: 0.7332 - binary_accuracy: 0.6359 - val_loss: 0.6967 - val_binary_accuracy: 0.6161 - 73ms/epoch - 73ms/step\n",
            "Epoch 36/100\n",
            "1/1 - 0s - loss: 0.7110 - binary_accuracy: 0.6480 - val_loss: 0.7001 - val_binary_accuracy: 0.6194 - 75ms/epoch - 75ms/step\n",
            "Epoch 37/100\n",
            "1/1 - 0s - loss: 0.7418 - binary_accuracy: 0.6584 - val_loss: 0.7039 - val_binary_accuracy: 0.6212 - 75ms/epoch - 75ms/step\n",
            "Epoch 38/100\n",
            "1/1 - 0s - loss: 0.7928 - binary_accuracy: 0.6480 - val_loss: 0.7025 - val_binary_accuracy: 0.6207 - 77ms/epoch - 77ms/step\n",
            "Epoch 39/100\n",
            "1/1 - 0s - loss: 0.6985 - binary_accuracy: 0.6446 - val_loss: 0.6962 - val_binary_accuracy: 0.6207 - 74ms/epoch - 74ms/step\n",
            "Epoch 40/100\n",
            "1/1 - 0s - loss: 0.7612 - binary_accuracy: 0.6630 - val_loss: 0.6954 - val_binary_accuracy: 0.6212 - 71ms/epoch - 71ms/step\n",
            "Epoch 41/100\n",
            "1/1 - 0s - loss: 0.7309 - binary_accuracy: 0.6342 - val_loss: 0.6910 - val_binary_accuracy: 0.6194 - 79ms/epoch - 79ms/step\n",
            "Epoch 42/100\n",
            "1/1 - 0s - loss: 0.7477 - binary_accuracy: 0.6331 - val_loss: 0.6930 - val_binary_accuracy: 0.6207 - 72ms/epoch - 72ms/step\n",
            "Epoch 43/100\n",
            "1/1 - 0s - loss: 0.6937 - binary_accuracy: 0.6526 - val_loss: 0.6860 - val_binary_accuracy: 0.6152 - 75ms/epoch - 75ms/step\n",
            "Epoch 44/100\n",
            "1/1 - 0s - loss: 0.7076 - binary_accuracy: 0.6354 - val_loss: 0.6887 - val_binary_accuracy: 0.6120 - 76ms/epoch - 76ms/step\n",
            "Epoch 45/100\n",
            "1/1 - 0s - loss: 0.6855 - binary_accuracy: 0.6532 - val_loss: 0.6911 - val_binary_accuracy: 0.6092 - 77ms/epoch - 77ms/step\n",
            "Epoch 46/100\n",
            "1/1 - 0s - loss: 0.6691 - binary_accuracy: 0.6601 - val_loss: 0.6934 - val_binary_accuracy: 0.6088 - 75ms/epoch - 75ms/step\n",
            "Epoch 47/100\n",
            "1/1 - 0s - loss: 0.6591 - binary_accuracy: 0.6411 - val_loss: 0.6944 - val_binary_accuracy: 0.6078 - 74ms/epoch - 74ms/step\n",
            "Epoch 48/100\n",
            "1/1 - 0s - loss: 0.6573 - binary_accuracy: 0.6503 - val_loss: 0.6943 - val_binary_accuracy: 0.6088 - 78ms/epoch - 78ms/step\n",
            "Epoch 49/100\n",
            "1/1 - 0s - loss: 0.6632 - binary_accuracy: 0.6584 - val_loss: 0.6933 - val_binary_accuracy: 0.6111 - 81ms/epoch - 81ms/step\n",
            "Epoch 50/100\n",
            "1/1 - 0s - loss: 0.6693 - binary_accuracy: 0.6486 - val_loss: 0.6911 - val_binary_accuracy: 0.6134 - 77ms/epoch - 77ms/step\n",
            "Epoch 51/100\n",
            "1/1 - 0s - loss: 0.6908 - binary_accuracy: 0.6452 - val_loss: 0.6887 - val_binary_accuracy: 0.6152 - 74ms/epoch - 74ms/step\n",
            "Epoch 52/100\n",
            "1/1 - 0s - loss: 0.6643 - binary_accuracy: 0.6492 - val_loss: 0.6853 - val_binary_accuracy: 0.6189 - 74ms/epoch - 74ms/step\n",
            "Epoch 53/100\n",
            "1/1 - 0s - loss: 0.6633 - binary_accuracy: 0.6555 - val_loss: 0.6815 - val_binary_accuracy: 0.6203 - 73ms/epoch - 73ms/step\n",
            "Epoch 54/100\n",
            "1/1 - 0s - loss: 0.6572 - binary_accuracy: 0.6728 - val_loss: 0.6782 - val_binary_accuracy: 0.6212 - 75ms/epoch - 75ms/step\n",
            "Epoch 55/100\n",
            "1/1 - 0s - loss: 0.6228 - binary_accuracy: 0.6694 - val_loss: 0.6750 - val_binary_accuracy: 0.6258 - 74ms/epoch - 74ms/step\n",
            "Epoch 56/100\n",
            "1/1 - 0s - loss: 0.6286 - binary_accuracy: 0.6682 - val_loss: 0.6713 - val_binary_accuracy: 0.6300 - 73ms/epoch - 73ms/step\n",
            "Epoch 57/100\n",
            "1/1 - 0s - loss: 0.6565 - binary_accuracy: 0.6624 - val_loss: 0.6676 - val_binary_accuracy: 0.6332 - 74ms/epoch - 74ms/step\n",
            "Epoch 58/100\n",
            "1/1 - 0s - loss: 0.6256 - binary_accuracy: 0.6751 - val_loss: 0.6648 - val_binary_accuracy: 0.6364 - 79ms/epoch - 79ms/step\n",
            "Epoch 59/100\n",
            "1/1 - 0s - loss: 0.6478 - binary_accuracy: 0.6803 - val_loss: 0.6629 - val_binary_accuracy: 0.6406 - 82ms/epoch - 82ms/step\n",
            "Epoch 60/100\n",
            "1/1 - 0s - loss: 0.6159 - binary_accuracy: 0.6826 - val_loss: 0.6655 - val_binary_accuracy: 0.6433 - 80ms/epoch - 80ms/step\n",
            "Epoch 61/100\n",
            "1/1 - 0s - loss: 0.6759 - binary_accuracy: 0.6561 - val_loss: 0.6680 - val_binary_accuracy: 0.6438 - 74ms/epoch - 74ms/step\n",
            "Epoch 62/100\n",
            "1/1 - 0s - loss: 0.6116 - binary_accuracy: 0.6959 - val_loss: 0.6662 - val_binary_accuracy: 0.6433 - 79ms/epoch - 79ms/step\n",
            "Epoch 63/100\n",
            "1/1 - 0s - loss: 0.6443 - binary_accuracy: 0.6849 - val_loss: 0.6646 - val_binary_accuracy: 0.6452 - 75ms/epoch - 75ms/step\n",
            "Epoch 64/100\n",
            "1/1 - 0s - loss: 0.6480 - binary_accuracy: 0.6815 - val_loss: 0.6630 - val_binary_accuracy: 0.6479 - 78ms/epoch - 78ms/step\n",
            "Epoch 65/100\n",
            "1/1 - 0s - loss: 0.6399 - binary_accuracy: 0.6884 - val_loss: 0.6578 - val_binary_accuracy: 0.6488 - 77ms/epoch - 77ms/step\n",
            "Epoch 66/100\n",
            "1/1 - 0s - loss: 0.6467 - binary_accuracy: 0.6941 - val_loss: 0.6524 - val_binary_accuracy: 0.6484 - 76ms/epoch - 76ms/step\n",
            "Epoch 67/100\n",
            "1/1 - 0s - loss: 0.6431 - binary_accuracy: 0.6780 - val_loss: 0.6519 - val_binary_accuracy: 0.6484 - 77ms/epoch - 77ms/step\n",
            "Epoch 68/100\n",
            "1/1 - 0s - loss: 0.6399 - binary_accuracy: 0.7028 - val_loss: 0.6526 - val_binary_accuracy: 0.6452 - 76ms/epoch - 76ms/step\n",
            "Epoch 69/100\n",
            "1/1 - 0s - loss: 0.5991 - binary_accuracy: 0.6935 - val_loss: 0.6540 - val_binary_accuracy: 0.6429 - 79ms/epoch - 79ms/step\n",
            "Epoch 70/100\n",
            "1/1 - 0s - loss: 0.6115 - binary_accuracy: 0.6855 - val_loss: 0.6549 - val_binary_accuracy: 0.6429 - 77ms/epoch - 77ms/step\n",
            "Epoch 71/100\n",
            "1/1 - 0s - loss: 0.5796 - binary_accuracy: 0.7085 - val_loss: 0.6551 - val_binary_accuracy: 0.6452 - 74ms/epoch - 74ms/step\n",
            "Epoch 72/100\n",
            "1/1 - 0s - loss: 0.5984 - binary_accuracy: 0.6826 - val_loss: 0.6546 - val_binary_accuracy: 0.6465 - 79ms/epoch - 79ms/step\n",
            "Epoch 73/100\n",
            "1/1 - 0s - loss: 0.5978 - binary_accuracy: 0.7056 - val_loss: 0.6534 - val_binary_accuracy: 0.6456 - 73ms/epoch - 73ms/step\n",
            "Epoch 74/100\n",
            "1/1 - 0s - loss: 0.6185 - binary_accuracy: 0.6861 - val_loss: 0.6512 - val_binary_accuracy: 0.6461 - 75ms/epoch - 75ms/step\n",
            "Epoch 75/100\n",
            "1/1 - 0s - loss: 0.6180 - binary_accuracy: 0.6838 - val_loss: 0.6482 - val_binary_accuracy: 0.6475 - 73ms/epoch - 73ms/step\n",
            "Epoch 76/100\n",
            "1/1 - 0s - loss: 0.5799 - binary_accuracy: 0.7189 - val_loss: 0.6452 - val_binary_accuracy: 0.6470 - 76ms/epoch - 76ms/step\n",
            "Epoch 77/100\n",
            "1/1 - 0s - loss: 0.5812 - binary_accuracy: 0.7005 - val_loss: 0.6422 - val_binary_accuracy: 0.6470 - 75ms/epoch - 75ms/step\n",
            "Epoch 78/100\n",
            "1/1 - 0s - loss: 0.5908 - binary_accuracy: 0.6970 - val_loss: 0.6392 - val_binary_accuracy: 0.6530 - 79ms/epoch - 79ms/step\n",
            "Epoch 79/100\n",
            "1/1 - 0s - loss: 0.5984 - binary_accuracy: 0.7010 - val_loss: 0.6367 - val_binary_accuracy: 0.6585 - 78ms/epoch - 78ms/step\n",
            "Epoch 80/100\n",
            "1/1 - 0s - loss: 0.5792 - binary_accuracy: 0.7212 - val_loss: 0.6352 - val_binary_accuracy: 0.6631 - 74ms/epoch - 74ms/step\n",
            "Epoch 81/100\n",
            "1/1 - 0s - loss: 0.5838 - binary_accuracy: 0.7016 - val_loss: 0.6389 - val_binary_accuracy: 0.6659 - 77ms/epoch - 77ms/step\n",
            "Epoch 82/100\n",
            "1/1 - 0s - loss: 0.6294 - binary_accuracy: 0.7045 - val_loss: 0.6326 - val_binary_accuracy: 0.6645 - 76ms/epoch - 76ms/step\n",
            "Epoch 83/100\n",
            "1/1 - 0s - loss: 0.5840 - binary_accuracy: 0.7143 - val_loss: 0.6321 - val_binary_accuracy: 0.6627 - 78ms/epoch - 78ms/step\n",
            "Epoch 84/100\n",
            "1/1 - 0s - loss: 0.5579 - binary_accuracy: 0.7200 - val_loss: 0.6321 - val_binary_accuracy: 0.6599 - 75ms/epoch - 75ms/step\n",
            "Epoch 85/100\n",
            "1/1 - 0s - loss: 0.5984 - binary_accuracy: 0.7114 - val_loss: 0.6284 - val_binary_accuracy: 0.6590 - 81ms/epoch - 81ms/step\n",
            "Epoch 86/100\n",
            "1/1 - 0s - loss: 0.5932 - binary_accuracy: 0.6993 - val_loss: 0.6283 - val_binary_accuracy: 0.6553 - 79ms/epoch - 79ms/step\n",
            "Epoch 87/100\n",
            "1/1 - 0s - loss: 0.5578 - binary_accuracy: 0.7172 - val_loss: 0.6283 - val_binary_accuracy: 0.6544 - 80ms/epoch - 80ms/step\n",
            "Epoch 88/100\n",
            "1/1 - 0s - loss: 0.5925 - binary_accuracy: 0.7074 - val_loss: 0.6277 - val_binary_accuracy: 0.6553 - 81ms/epoch - 81ms/step\n",
            "Epoch 89/100\n",
            "1/1 - 0s - loss: 0.5641 - binary_accuracy: 0.7235 - val_loss: 0.6266 - val_binary_accuracy: 0.6571 - 77ms/epoch - 77ms/step\n",
            "Epoch 90/100\n",
            "1/1 - 0s - loss: 0.5578 - binary_accuracy: 0.7103 - val_loss: 0.6252 - val_binary_accuracy: 0.6581 - 80ms/epoch - 80ms/step\n",
            "Epoch 91/100\n",
            "1/1 - 0s - loss: 0.5590 - binary_accuracy: 0.7241 - val_loss: 0.6237 - val_binary_accuracy: 0.6604 - 79ms/epoch - 79ms/step\n",
            "Epoch 92/100\n",
            "1/1 - 0s - loss: 0.5829 - binary_accuracy: 0.7218 - val_loss: 0.6225 - val_binary_accuracy: 0.6618 - 75ms/epoch - 75ms/step\n",
            "Epoch 93/100\n",
            "1/1 - 0s - loss: 0.5505 - binary_accuracy: 0.7275 - val_loss: 0.6252 - val_binary_accuracy: 0.6641 - 77ms/epoch - 77ms/step\n",
            "Epoch 94/100\n",
            "1/1 - 0s - loss: 0.5545 - binary_accuracy: 0.7212 - val_loss: 0.6235 - val_binary_accuracy: 0.6659 - 79ms/epoch - 79ms/step\n",
            "Epoch 95/100\n",
            "1/1 - 0s - loss: 0.5725 - binary_accuracy: 0.7160 - val_loss: 0.6239 - val_binary_accuracy: 0.6664 - 78ms/epoch - 78ms/step\n",
            "Epoch 96/100\n",
            "1/1 - 0s - loss: 0.5965 - binary_accuracy: 0.7177 - val_loss: 0.6247 - val_binary_accuracy: 0.6673 - 78ms/epoch - 78ms/step\n",
            "Epoch 97/100\n",
            "1/1 - 0s - loss: 0.5605 - binary_accuracy: 0.7264 - val_loss: 0.6252 - val_binary_accuracy: 0.6664 - 84ms/epoch - 84ms/step\n",
            "Epoch 98/100\n",
            "1/1 - 0s - loss: 0.5509 - binary_accuracy: 0.7298 - val_loss: 0.6261 - val_binary_accuracy: 0.6650 - 76ms/epoch - 76ms/step\n",
            "Epoch 99/100\n",
            "1/1 - 0s - loss: 0.5561 - binary_accuracy: 0.7166 - val_loss: 0.6266 - val_binary_accuracy: 0.6677 - 81ms/epoch - 81ms/step\n",
            "Epoch 100/100\n",
            "1/1 - 0s - loss: 0.5737 - binary_accuracy: 0.7333 - val_loss: 0.6268 - val_binary_accuracy: 0.6691 - 87ms/epoch - 87ms/step\n"
          ]
        }
      ],
      "source": [
        "history = model.fit(\n",
        "    train_flow, epochs = epochs, validation_data = test_flow, verbose = 2, shuffle = False\n",
        ")"
      ]
    },
    {
      "cell_type": "markdown",
      "metadata": {
        "id": "5HElBjQQJhBO"
      },
      "source": [
        "Plot the training history:"
      ]
    },
    {
      "cell_type": "code",
      "execution_count": 346,
      "metadata": {
        "id": "zpslUG6IJhBO",
        "colab": {
          "base_uri": "https://localhost:8080/",
          "height": 585
        },
        "outputId": "6c5f9b1d-84f2-4553-cc56-ed1566962096"
      },
      "outputs": [
        {
          "output_type": "display_data",
          "data": {
            "text/plain": [
              "<Figure size 504x576 with 2 Axes>"
            ],
            "image/png": "[encoded data removed]"
          },
          "metadata": {
            "needs_background": "light"
          }
        }
      ],
      "source": [
        "sg.utils.plot_history(history)"
      ]
    },
    {
      "cell_type": "markdown",
      "metadata": {
        "id": "idOENFmFJhBO"
      },
      "source": [
        "### Evaluate"
      ]
    },
    {
      "cell_type": "code",
      "execution_count": 347,
      "metadata": {
        "id": "OBu7wtK0JhBP",
        "colab": {
          "base_uri": "https://localhost:8080/"
        },
        "outputId": "69739ed8-c4ba-4bb6-9d3c-489917c112ed"
      },
      "outputs": [
        {
          "output_type": "stream",
          "name": "stdout",
          "text": [
            "1/1 [==============================] - 0s 56ms/step - loss: 0.4975 - binary_accuracy: 0.7627\n",
            "1/1 [==============================] - 0s 56ms/step - loss: 0.6268 - binary_accuracy: 0.6691\n",
            "\n",
            "Train Set Metrics of the trained model:\n",
            "\tloss: 0.4975\n",
            "\tbinary_accuracy: 0.7627\n",
            "\n",
            "Test Set Metrics of the trained model:\n",
            "\tloss: 0.6268\n",
            "\tbinary_accuracy: 0.6691\n"
          ]
        }
      ],
      "source": [
        "train_metrics = model.evaluate(train_flow)\n",
        "test_metrics = model.evaluate(test_flow)\n",
        "\n",
        "print(\"\\nTrain Set Metrics of the trained model:\")\n",
        "for name, val in zip(model.metrics_names, train_metrics):\n",
        "    print(\"\\t{}: {:0.4f}\".format(name, val))\n",
        "\n",
        "print(\"\\nTest Set Metrics of the trained model:\")\n",
        "for name, val in zip(model.metrics_names, test_metrics):\n",
        "    print(\"\\t{}: {:0.4f}\".format(name, val))"
      ]
    },
    {
      "cell_type": "markdown",
      "metadata": {
        "id": "wvn7HhxfJhBP"
      },
      "source": [
        "## Link prediction with HinSAGE\n",
        "\n"
      ]
    },
    {
      "cell_type": "code",
      "execution_count": 348,
      "metadata": {
        "id": "obiOX1lxJhBP"
      },
      "outputs": [],
      "source": [
        "from stellargraph.mapper import GraphSAGELinkGenerator\n",
        "from stellargraph.layer import GraphSAGE, HinSAGE, link_classification\n",
        "\n",
        "from stellargraph.mapper import HinSAGELinkGenerator\n",
        "from stellargraph.layer import HinSAGE, link_regression\n",
        "from tensorflow.keras import Model, optimizers, losses, metrics\n",
        "\n",
        "from tensorflow import keras\n",
        "from sklearn import preprocessing, feature_extraction, model_selection\n",
        "\n",
        "from stellargraph import globalvar"
      ]
    },
    {
      "cell_type": "markdown",
      "source": [
        "### Parameters"
      ],
      "metadata": {
        "id": "V3y889i6waZ2"
      }
    },
    {
      "cell_type": "code",
      "execution_count": 382,
      "metadata": {
        "id": "lZkUs129JhBP"
      },
      "outputs": [],
      "source": [
        "p = 0.2\n",
        "batch_size = 10\n",
        "epochs = 10\n",
        "num_samples = [16, 12]\n",
        "layer_sizes = [20, 20]\n",
        "learning_rate = 1e-3"
      ]
    },
    {
      "cell_type": "markdown",
      "metadata": {
        "id": "osORTlXWrbli"
      },
      "source": [
        "### Dara Splitting"
      ]
    },
    {
      "cell_type": "code",
      "execution_count": 383,
      "metadata": {
        "id": "0tYnHm_rrdcM",
        "colab": {
          "base_uri": "https://localhost:8080/"
        },
        "outputId": "98204a02-8b20-4d90-edf0-60666b233fa2"
      },
      "outputs": [
        {
          "output_type": "stream",
          "name": "stdout",
          "text": [
            "** Sampled 1085 positive and 1085 negative edges. **\n"
          ]
        }
      ],
      "source": [
        "# Define an edge splitter on the original graph G:\n",
        "edge_splitter_test = EdgeSplitter(G)\n",
        "\n",
        "G_test, edge_ids_test, edge_labels_test = edge_splitter_test.train_test_split(\n",
        "    p = p, method = \"global\", keep_connected = True\n",
        ")"
      ]
    },
    {
      "cell_type": "code",
      "execution_count": 384,
      "metadata": {
        "id": "WNzXtS79rh39",
        "colab": {
          "base_uri": "https://localhost:8080/"
        },
        "outputId": "ef8fd1bb-8d98-4ebc-bb24-a546f6bd1e2d"
      },
      "outputs": [
        {
          "output_type": "stream",
          "name": "stdout",
          "text": [
            "** Sampled 868 positive and 868 negative edges. **\n"
          ]
        }
      ],
      "source": [
        "# Define an edge splitter on the reduced graph G_test:\n",
        "edge_splitter_train = EdgeSplitter(G_test)\n",
        "\n",
        "G_train, edge_ids_train, edge_labels_train = edge_splitter_train.train_test_split(\n",
        "    p = p, method = \"global\", keep_connected = True\n",
        ")"
      ]
    },
    {
      "cell_type": "markdown",
      "metadata": {
        "id": "JYaQolaiJhBP"
      },
      "source": [
        "### Creating the HinSAGE model"
      ]
    },
    {
      "cell_type": "code",
      "execution_count": 385,
      "metadata": {
        "id": "w-S_-dxXJhBQ"
      },
      "outputs": [],
      "source": [
        "train_gen = HinSAGELinkGenerator(G_train, batch_size, num_samples)\n",
        "train_flow = train_gen.flow(edge_ids_train, edge_labels_train, shuffle=True)\n",
        "\n",
        "test_gen = HinSAGELinkGenerator(G_test, batch_size, num_samples)\n",
        "test_flow = test_gen.flow(edge_ids_test, edge_labels_test)"
      ]
    },
    {
      "cell_type": "code",
      "execution_count": 386,
      "metadata": {
        "id": "h5VlEok_JhBQ"
      },
      "outputs": [],
      "source": [
        "graphsage = HinSAGE(\n",
        "    layer_sizes=layer_sizes, generator=train_gen, bias=True, dropout=0.4\n",
        ")"
      ]
    },
    {
      "cell_type": "code",
      "execution_count": 387,
      "metadata": {
        "id": "5JxgMU26JhBQ"
      },
      "outputs": [],
      "source": [
        "x_inp, x_out = graphsage.in_out_tensors()"
      ]
    },
    {
      "cell_type": "code",
      "execution_count": 388,
      "metadata": {
        "id": "X6icX5EHJhBQ",
        "colab": {
          "base_uri": "https://localhost:8080/"
        },
        "outputId": "69562360-0e81-4ad5-cb4e-dc868c21f213"
      },
      "outputs": [
        {
          "output_type": "stream",
          "name": "stdout",
          "text": [
            "link_regression: using 'mul' method to combine node embeddings into edge embeddings\n"
          ]
        }
      ],
      "source": [
        "prediction = link_regression(edge_embedding_method = \"mul\")(x_out)"
      ]
    },
    {
      "cell_type": "code",
      "source": [
        "model = Model(inputs=x_inp, outputs=prediction)\n",
        "\n",
        "model.compile(\n",
        "    optimizer=keras.optimizers.Adam(learning_rate = learning_rate),\n",
        "    loss=keras.losses.binary_crossentropy,\n",
        "    metrics=[\"binary_accuracy\"],\n",
        ")"
      ],
      "metadata": {
        "id": "2r_Z9UjLxwIk"
      },
      "execution_count": 389,
      "outputs": []
    },
    {
      "cell_type": "markdown",
      "metadata": {
        "id": "IrOAUsd3JhBR"
      },
      "source": [
        "### Evaluate"
      ]
    },
    {
      "cell_type": "code",
      "execution_count": 390,
      "metadata": {
        "id": "GA8jUKPOJhBR",
        "colab": {
          "base_uri": "https://localhost:8080/"
        },
        "outputId": "c9ecc232-13db-4ca2-f70b-d6561a6c1094"
      },
      "outputs": [
        {
          "output_type": "stream",
          "name": "stdout",
          "text": [
            "174/174 [==============================] - 4s 20ms/step - loss: 2.2313 - binary_accuracy: 0.5000\n",
            "217/217 [==============================] - 4s 20ms/step - loss: 2.3599 - binary_accuracy: 0.5000\n",
            "\n",
            "Train Set Metrics of the initial (untrained) model:\n",
            "\tloss: 2.2313\n",
            "\tbinary_accuracy: 0.5000\n",
            "\n",
            "Test Set Metrics of the initial (untrained) model:\n",
            "\tloss: 2.3599\n",
            "\tbinary_accuracy: 0.5000\n"
          ]
        }
      ],
      "source": [
        "init_train_metrics = model.evaluate(train_flow)\n",
        "init_test_metrics = model.evaluate(test_flow)\n",
        "\n",
        "print(\"\\nTrain Set Metrics of the initial (untrained) model:\")\n",
        "for name, val in zip(model.metrics_names, init_train_metrics):\n",
        "    print(\"\\t{}: {:0.4f}\".format(name, val))\n",
        "\n",
        "print(\"\\nTest Set Metrics of the initial (untrained) model:\")\n",
        "for name, val in zip(model.metrics_names, init_test_metrics):\n",
        "    print(\"\\t{}: {:0.4f}\".format(name, val))"
      ]
    },
    {
      "cell_type": "markdown",
      "metadata": {
        "id": "FuJmWbZ1JhBR"
      },
      "source": [
        "### Train"
      ]
    },
    {
      "cell_type": "code",
      "execution_count": 391,
      "metadata": {
        "colab": {
          "base_uri": "https://localhost:8080/"
        },
        "id": "tID7kUTcJhBR",
        "outputId": "bfb68548-9aa8-420a-b915-c42393b77df5"
      },
      "outputs": [
        {
          "output_type": "stream",
          "name": "stdout",
          "text": [
            "Epoch 1/10\n",
            "174/174 [==============================] - 10s 43ms/step - loss: 0.9831 - binary_accuracy: 0.5000 - val_loss: 0.6981 - val_binary_accuracy: 0.5000\n",
            "Epoch 2/10\n",
            "174/174 [==============================] - 8s 43ms/step - loss: 0.7168 - binary_accuracy: 0.5000 - val_loss: 0.6781 - val_binary_accuracy: 0.6203\n",
            "Epoch 3/10\n",
            "174/174 [==============================] - 8s 43ms/step - loss: 0.6764 - binary_accuracy: 0.5645 - val_loss: 0.6731 - val_binary_accuracy: 0.5673\n",
            "Epoch 4/10\n",
            "174/174 [==============================] - 8s 44ms/step - loss: 0.6485 - binary_accuracy: 0.6382 - val_loss: 0.6622 - val_binary_accuracy: 0.5820\n",
            "Epoch 5/10\n",
            "174/174 [==============================] - 8s 43ms/step - loss: 0.6103 - binary_accuracy: 0.6941 - val_loss: 0.6290 - val_binary_accuracy: 0.6461\n",
            "Epoch 6/10\n",
            "174/174 [==============================] - 8s 43ms/step - loss: 0.5652 - binary_accuracy: 0.7229 - val_loss: 0.6080 - val_binary_accuracy: 0.6728\n",
            "Epoch 7/10\n",
            "174/174 [==============================] - 8s 44ms/step - loss: 0.4991 - binary_accuracy: 0.7627 - val_loss: 0.5767 - val_binary_accuracy: 0.7055\n",
            "Epoch 8/10\n",
            "174/174 [==============================] - 8s 45ms/step - loss: 0.4335 - binary_accuracy: 0.8203 - val_loss: 0.6001 - val_binary_accuracy: 0.7166\n",
            "Epoch 9/10\n",
            "174/174 [==============================] - 8s 44ms/step - loss: 0.3854 - binary_accuracy: 0.8531 - val_loss: 0.6504 - val_binary_accuracy: 0.7143\n",
            "Epoch 10/10\n",
            "174/174 [==============================] - 8s 43ms/step - loss: 0.3594 - binary_accuracy: 0.8652 - val_loss: 0.7727 - val_binary_accuracy: 0.7429\n"
          ]
        }
      ],
      "source": [
        "history = model.fit(train_flow, epochs=epochs, validation_data=test_flow)"
      ]
    },
    {
      "cell_type": "code",
      "execution_count": 392,
      "metadata": {
        "id": "6AnMZUP4JhBS",
        "colab": {
          "base_uri": "https://localhost:8080/",
          "height": 585
        },
        "outputId": "13cb064c-0605-4541-ac9d-20bd59260264"
      },
      "outputs": [
        {
          "output_type": "display_data",
          "data": {
            "text/plain": [
              "<Figure size 504x576 with 2 Axes>"
            ],
            "image/png": "[encoded data removed]"
          },
          "metadata": {
            "needs_background": "light"
          }
        }
      ],
      "source": [
        "sg.utils.plot_history(history)"
      ]
    },
    {
      "cell_type": "markdown",
      "metadata": {
        "id": "uw15UBO4JhBS"
      },
      "source": [
        "### Evaluate on test set"
      ]
    },
    {
      "cell_type": "code",
      "execution_count": 393,
      "metadata": {
        "id": "xhAu9sfRJhBS",
        "colab": {
          "base_uri": "https://localhost:8080/"
        },
        "outputId": "31266c75-3c0e-4275-df9a-40c374d008ab"
      },
      "outputs": [
        {
          "output_type": "stream",
          "name": "stdout",
          "text": [
            "174/174 [==============================] - 3s 20ms/step - loss: 0.2649 - binary_accuracy: 0.9240\n",
            "217/217 [==============================] - 4s 20ms/step - loss: 0.7744 - binary_accuracy: 0.7346\n",
            "\n",
            "Train Set Metrics of the trained model:\n",
            "\tloss: 0.2649\n",
            "\tbinary_accuracy: 0.9240\n",
            "\n",
            "Test Set Metrics of the trained model:\n",
            "\tloss: 0.7744\n",
            "\tbinary_accuracy: 0.7346\n"
          ]
        }
      ],
      "source": [
        "train_metrics = model.evaluate(train_flow)\n",
        "test_metrics = model.evaluate(test_flow)\n",
        "\n",
        "print(\"\\nTrain Set Metrics of the trained model:\")\n",
        "for name, val in zip(model.metrics_names, train_metrics):\n",
        "    print(\"\\t{}: {:0.4f}\".format(name, val))\n",
        "\n",
        "print(\"\\nTest Set Metrics of the trained model:\")\n",
        "for name, val in zip(model.metrics_names, test_metrics):\n",
        "    print(\"\\t{}: {:0.4f}\".format(name, val))"
      ]
    },
    {
      "cell_type": "markdown",
      "metadata": {
        "id": "8Cfen6lFGWfK"
      },
      "source": [
        "## Link Prediction with ComplEx\n",
        "\n",
        "\n",
        "\n"
      ]
    },
    {
      "cell_type": "code",
      "execution_count": 394,
      "metadata": {
        "id": "Ib7DjkoPGWfK"
      },
      "outputs": [],
      "source": [
        "from stellargraph import utils\n",
        "from tensorflow.keras import callbacks, optimizers, losses, metrics, regularizers, Model\n",
        "import numpy as np\n",
        "import pandas as pd\n",
        "\n",
        "from stellargraph.mapper import KGTripleGenerator\n",
        "from stellargraph.layer import ComplEx"
      ]
    },
    {
      "cell_type": "markdown",
      "source": [
        "### Parameters"
      ],
      "metadata": {
        "id": "tESL-dEIw1_V"
      }
    },
    {
      "cell_type": "code",
      "execution_count": 395,
      "metadata": {
        "id": "VwXRD7xMGWfK"
      },
      "outputs": [],
      "source": [
        "epochs = 10\n",
        "embedding_dimension = 200\n",
        "negative_samples = 10\n",
        "learning_rate = 1e-3"
      ]
    },
    {
      "cell_type": "markdown",
      "metadata": {
        "id": "3agXGtWHGWfK"
      },
      "source": [
        "### Data Splitting"
      ]
    },
    {
      "cell_type": "code",
      "execution_count": 396,
      "metadata": {
        "id": "oBSIMLMDGWfK"
      },
      "outputs": [],
      "source": [
        "def get_complex_edge_df(edges):\n",
        "    source = []\n",
        "    target = []\n",
        "    label = []\n",
        "    for i in range(len(edges)):\n",
        "        source.append(edges[i][0])\n",
        "        target.append(edges[i][1])\n",
        "        label.append(edges[i][2])\n",
        "    \n",
        "    dic = {\n",
        "        \"source\":source,\n",
        "        \"label\":label,\n",
        "        \"target\":target\n",
        "    }\n",
        "\n",
        "    complex_edge_df = pd.DataFrame(data = dic)\n",
        "\n",
        "    return complex_edge_df"
      ]
    },
    {
      "cell_type": "code",
      "execution_count": 397,
      "metadata": {
        "id": "x5yvwFec1CJr"
      },
      "outputs": [],
      "source": [
        "edges = G.edges(include_edge_type = True)"
      ]
    },
    {
      "cell_type": "code",
      "execution_count": 398,
      "metadata": {
        "id": "qiMgTGhVGWfL"
      },
      "outputs": [],
      "source": [
        "complex_edge_df = get_complex_edge_df(edges)"
      ]
    },
    {
      "cell_type": "code",
      "execution_count": 399,
      "metadata": {
        "id": "Kgp_S8rQGWfL"
      },
      "outputs": [],
      "source": [
        "train, validation, test = np.split(complex_edge_df.sample(frac = 1, random_state = 42),\n",
        "                                    [int(.7*len(complex_edge_df)), int(.9*len(complex_edge_df))])"
      ]
    },
    {
      "cell_type": "markdown",
      "metadata": {
        "id": "u2RQB7Z3GWfL"
      },
      "source": [
        "### Generator"
      ]
    },
    {
      "cell_type": "code",
      "execution_count": 400,
      "metadata": {
        "id": "SGX3iAR4GWfL"
      },
      "outputs": [],
      "source": [
        "generator = KGTripleGenerator(\n",
        "    G, batch_size = len(train) // 100\n",
        ")"
      ]
    },
    {
      "cell_type": "code",
      "execution_count": 401,
      "metadata": {
        "id": "xNoL2TkXGWfL"
      },
      "outputs": [],
      "source": [
        "train_gen = generator.flow(\n",
        "    train, negative_samples = negative_samples, shuffle = True\n",
        ")\n",
        "\n",
        "validation_gen = generator.flow(\n",
        "    validation, negative_samples = negative_samples\n",
        ")"
      ]
    },
    {
      "cell_type": "code",
      "execution_count": 402,
      "metadata": {
        "id": "KN1-syu9GWfL"
      },
      "outputs": [],
      "source": [
        "Complex = ComplEx(\n",
        "    generator,\n",
        "    embedding_dimension = embedding_dimension,\n",
        "    embeddings_regularizer = regularizers.l2(1e-7)\n",
        ")"
      ]
    },
    {
      "cell_type": "markdown",
      "metadata": {
        "id": "HxWTMA28GWfM"
      },
      "source": [
        "### Model"
      ]
    },
    {
      "cell_type": "code",
      "execution_count": 403,
      "metadata": {
        "id": "zENUElxDGWfM"
      },
      "outputs": [],
      "source": [
        "x_inp, x_out = Complex.in_out_tensors()"
      ]
    },
    {
      "cell_type": "code",
      "execution_count": 404,
      "metadata": {
        "id": "dX_FQjIbGWfM"
      },
      "outputs": [],
      "source": [
        "model = Model(inputs = x_inp, outputs = x_out)"
      ]
    },
    {
      "cell_type": "code",
      "execution_count": 405,
      "metadata": {
        "id": "_wsTnO_0GWfM"
      },
      "outputs": [],
      "source": [
        "model.compile(\n",
        "    optimizer = optimizers.Adam(learning_rate = learning_rate),\n",
        "    loss = losses.BinaryCrossentropy(from_logits = True),\n",
        "    metrics = [metrics.BinaryAccuracy(threshold = 0.0)],\n",
        ")"
      ]
    },
    {
      "cell_type": "markdown",
      "metadata": {
        "id": "PC1F53U1GWfM"
      },
      "source": [
        "### Train"
      ]
    },
    {
      "cell_type": "code",
      "execution_count": 406,
      "metadata": {
        "id": "KXGAAYwQGWfM"
      },
      "outputs": [],
      "source": [
        "es = callbacks.EarlyStopping(monitor = \"val_loss\", patience = 10)"
      ]
    },
    {
      "cell_type": "code",
      "execution_count": 407,
      "metadata": {
        "id": "eT3yNf4FGWfM",
        "colab": {
          "base_uri": "https://localhost:8080/"
        },
        "outputId": "9204c5de-4c36-402a-fc44-2dd3180d5e4c"
      },
      "outputs": [
        {
          "output_type": "stream",
          "name": "stdout",
          "text": [
            "Epoch 1/10\n",
            "100/100 [==============================] - 2s 9ms/step - loss: 0.6934 - binary_accuracy: 0.4999 - val_loss: 0.6934 - val_binary_accuracy: 0.5085\n",
            "Epoch 2/10\n",
            "100/100 [==============================] - 1s 6ms/step - loss: 0.6932 - binary_accuracy: 0.5379 - val_loss: 0.6933 - val_binary_accuracy: 0.5163\n",
            "Epoch 3/10\n",
            "100/100 [==============================] - 1s 6ms/step - loss: 0.6922 - binary_accuracy: 0.6330 - val_loss: 0.6909 - val_binary_accuracy: 0.7204\n",
            "Epoch 4/10\n",
            "100/100 [==============================] - 1s 6ms/step - loss: 0.6770 - binary_accuracy: 0.8958 - val_loss: 0.6498 - val_binary_accuracy: 0.9092\n",
            "Epoch 5/10\n",
            "100/100 [==============================] - 1s 6ms/step - loss: 0.5605 - binary_accuracy: 0.9094 - val_loss: 0.4583 - val_binary_accuracy: 0.9091\n",
            "Epoch 6/10\n",
            "100/100 [==============================] - 1s 6ms/step - loss: 0.3618 - binary_accuracy: 0.9091 - val_loss: 0.3265 - val_binary_accuracy: 0.9091\n",
            "Epoch 7/10\n",
            "100/100 [==============================] - 1s 6ms/step - loss: 0.2760 - binary_accuracy: 0.9091 - val_loss: 0.3057 - val_binary_accuracy: 0.9089\n",
            "Epoch 8/10\n",
            "100/100 [==============================] - 1s 7ms/step - loss: 0.2159 - binary_accuracy: 0.9121 - val_loss: 0.3027 - val_binary_accuracy: 0.9084\n",
            "Epoch 9/10\n",
            "100/100 [==============================] - 1s 9ms/step - loss: 0.1458 - binary_accuracy: 0.9394 - val_loss: 0.3080 - val_binary_accuracy: 0.9078\n",
            "Epoch 10/10\n",
            "100/100 [==============================] - 1s 6ms/step - loss: 0.0893 - binary_accuracy: 0.9844 - val_loss: 0.3264 - val_binary_accuracy: 0.9070\n"
          ]
        }
      ],
      "source": [
        "history = model.fit(\n",
        "    train_gen, validation_data = validation_gen, epochs = epochs, callbacks = [es]\n",
        "    )"
      ]
    },
    {
      "cell_type": "code",
      "execution_count": 408,
      "metadata": {
        "id": "e6QKUKjJGWfN",
        "colab": {
          "base_uri": "https://localhost:8080/",
          "height": 585
        },
        "outputId": "1b5ecb9b-0071-43a1-e42f-d96f361b82be"
      },
      "outputs": [
        {
          "output_type": "display_data",
          "data": {
            "text/plain": [
              "<Figure size 504x576 with 2 Axes>"
            ],
            "image/png": "[encoded data removed]"
          },
          "metadata": {
            "needs_background": "light"
          }
        }
      ],
      "source": [
        "utils.plot_history(history)"
      ]
    },
    {
      "cell_type": "markdown",
      "source": [
        "## Parameters for ComplEx"
      ],
      "metadata": {
        "id": "toU0Uz3d3Qrj"
      }
    },
    {
      "cell_type": "code",
      "source": [
        "epochs = 20\n",
        "embedding_dimension = 200\n",
        "negative_samples = 10\n",
        "learning_rate = 1e-3"
      ],
      "metadata": {
        "id": "otJYxuKw3Twi"
      },
      "execution_count": 453,
      "outputs": []
    },
    {
      "cell_type": "markdown",
      "source": [
        "## Applying ComplEx on Hetionet (homogeneous)"
      ],
      "metadata": {
        "id": "ej2glddyr86H"
      }
    },
    {
      "cell_type": "markdown",
      "source": [
        "### Edges"
      ],
      "metadata": {
        "id": "0q-HmyQjw8nj"
      }
    },
    {
      "cell_type": "code",
      "source": [
        "def get_edges_type_list(graph):\n",
        "    # Cypher for matching all the types of edges \n",
        "    query_findAllTypeOfEdges = '''\n",
        "    match ()-[r]->() return distinct type(r)\n",
        "    '''\n",
        "    edges_type_df = match_in_hetio(graph, query_findAllTypeOfEdges)\n",
        "    edges_type_list = []\n",
        "    type_num = len(edges_type_df)\n",
        "\n",
        "    # Add all types in edges_type_list\n",
        "    for i in range(type_num):\n",
        "        edges_type_list.append(edges_type_df['type(r)'][i])\n",
        "    \n",
        "    return edges_type_list"
      ],
      "metadata": {
        "id": "FvFM4ObexGP9"
      },
      "execution_count": 410,
      "outputs": []
    },
    {
      "cell_type": "code",
      "source": [
        "def map_edge_type(type, edges_type_list):\n",
        "    edge_tl = [None]\n",
        "    temp = edges_type_list\n",
        "    edge_tl = edge_tl + temp\n",
        "    le = preprocessing.LabelEncoder()\n",
        "    le.fit(edge_tl)\n",
        "    t = le.transform([type])\n",
        "    return t"
      ],
      "metadata": {
        "id": "mMR7k6fvxObU"
      },
      "execution_count": 411,
      "outputs": []
    },
    {
      "cell_type": "code",
      "source": [
        "def get_different_type_edgeDF(graph, edge_type, edges_type_list):\n",
        "    str1 = '''match (n)-[r:'''\n",
        "    str2 = edge_type\n",
        "    str3 = ''']->(m) return \n",
        "    n.identifier as source, \n",
        "    m.identifier as target, \n",
        "    r.unbiased as unbiased\n",
        "    '''\n",
        "    query = str1 + str2 + str3\n",
        "    edge_type_df = match_in_hetio(graph, query)\n",
        "    temp = map_edge_type(edge_type, edges_type_list)\n",
        "    # edge_label_list = []\n",
        "    # for i in range(len(edge_type_df)):\n",
        "    #     edge_label_list.append(temp[0])\n",
        "    # edge_type_df[\"edge_label\"] = edge_label_list\n",
        "    return edge_type_df"
      ],
      "metadata": {
        "id": "ofeP8TZJxQSm"
      },
      "execution_count": 412,
      "outputs": []
    },
    {
      "cell_type": "code",
      "source": [
        "def match_all_edges_in_hetio(graph):\n",
        "    edges_type_list = get_edges_type_list(graph)\n",
        "    # Get all edges' dataframe and store in edges_df_list\n",
        "    edges_df_list = []\n",
        "    for edge_type in edges_type_list:\n",
        "        edge_type_df = get_different_type_edgeDF(graph, edge_type, edges_type_list)\n",
        "        edges_df_list.append(edge_type_df)\n",
        "\n",
        "    return edges_df_list, edges_type_list"
      ],
      "metadata": {
        "id": "e5xUiZnSxSIn"
      },
      "execution_count": 413,
      "outputs": []
    },
    {
      "cell_type": "code",
      "source": [
        "# Get a edge dictionary with format:\n",
        "# {\"edge type\" : edge's data frame}\n",
        "def get_edges_dictionary(edges_df_list):\n",
        "    edges_dictionary = {}\n",
        "\n",
        "    values = edges_df_list\n",
        "    for i in range(24):\n",
        "        if i == 0:\n",
        "            edges_dictionary[\"edges\"] = values[i]\n",
        "        else:\n",
        "            df = edges_dictionary[\"edges\"]\n",
        "            df = df.append(values[i])\n",
        "            edges_dictionary[\"edges\"] = df\n",
        "    return edges_dictionary"
      ],
      "metadata": {
        "id": "NzkbPBP4xUEp"
      },
      "execution_count": 414,
      "outputs": []
    },
    {
      "cell_type": "code",
      "source": [
        "def add_index(df_list):\n",
        "    iter_num = 0\n",
        "    for i in range(len(df_list)):\n",
        "        df = df_list[i]\n",
        "        num = len(df)\n",
        "        temp = iter_num + num\n",
        "        index_list = range(iter_num, temp)\n",
        "        df['index'] = index_list\n",
        "        iter_num = temp\n",
        "        df_list[i] = df.set_index('index')\n",
        "    return df_list"
      ],
      "metadata": {
        "id": "KhJHadKdxV8s"
      },
      "execution_count": 415,
      "outputs": []
    },
    {
      "cell_type": "code",
      "source": [
        "edges_df_list, edges_type_list = match_all_edges_in_hetio(Hetio_graph)\n",
        "edges_df_list = add_index(edges_df_list)"
      ],
      "metadata": {
        "id": "OXE6oNjMxXkp"
      },
      "execution_count": 416,
      "outputs": []
    },
    {
      "cell_type": "code",
      "source": [
        "edges_dic = get_edges_dictionary(edges_df_list)"
      ],
      "metadata": {
        "id": "Y19Lo51-xjWZ"
      },
      "execution_count": 417,
      "outputs": []
    },
    {
      "cell_type": "markdown",
      "source": [
        "### Nodes"
      ],
      "metadata": {
        "id": "hieKZFySw_67"
      }
    },
    {
      "cell_type": "code",
      "source": [
        "def get_nodes_labels_list(graph):\n",
        "    query_findAllLabelsofNodes = '''\n",
        "    match (n) return distinct labels(n)\n",
        "    '''\n",
        "    nodes_labels_df = match_in_hetio(graph, query_findAllLabelsofNodes)\n",
        "    nodes_labels_list = []\n",
        "    labels_num = len(nodes_labels_df)\n",
        "\n",
        "    # Add all labels in nodes_labels_list\n",
        "    for i in range(labels_num):\n",
        "        nodes_labels_list.append(nodes_labels_df['labels(n)'][i])\n",
        "    return nodes_labels_list"
      ],
      "metadata": {
        "id": "Aqvr93BHxGwd"
      },
      "execution_count": 418,
      "outputs": []
    },
    {
      "cell_type": "code",
      "source": [
        "def map_nodes_labels(type, nodes_labels_list):\n",
        "    node_tl = [None]\n",
        "    list = []\n",
        "    for i in nodes_labels_list:\n",
        "        list.append(i[0])\n",
        "    node_tl = node_tl + list\n",
        "    le = preprocessing.LabelEncoder()\n",
        "    le.fit(node_tl)\n",
        "    t = le.transform([type])\n",
        "    return t"
      ],
      "metadata": {
        "id": "SKXvkKFJx2n4"
      },
      "execution_count": 419,
      "outputs": []
    },
    {
      "cell_type": "code",
      "source": [
        "# Return a single labels' node data frame\n",
        "def get_different_labels_nodeDF(graph, node_label, nodes_labels_list):\n",
        "    str1 = '''match (n:'''\n",
        "    str2 = node_label\n",
        "    str3 = ''') return n.identifier as index'''\n",
        "    query = str1 + str2 + str3\n",
        "    # match the node\n",
        "    node_type_df = match_in_hetio(graph, query)\n",
        "\n",
        "    temp = map_nodes_labels(node_label, nodes_labels_list)\n",
        "    node_label_list = []\n",
        "    for i in range(len(node_type_df)):\n",
        "        node_label_list.append(temp[0])\n",
        "    node_type_df[\"node_label\"] = node_label_list\n",
        "\n",
        "    node_type_df = node_type_df.set_index(\"index\")\n",
        "    return node_type_df"
      ],
      "metadata": {
        "id": "pYlX9m47x7vq"
      },
      "execution_count": 420,
      "outputs": []
    },
    {
      "cell_type": "code",
      "source": [
        "# Return a list which contains different labels of nodes' data frame\n",
        "# And a list which includes all labels of nodes\n",
        "\n",
        "def match_all_nodes_in_hetio(graph):\n",
        "    nodes_labels_list = get_nodes_labels_list(graph)\n",
        "    \n",
        "    # Get all nodes' dataframe and store in nodes_df_list\n",
        "    nodes_df_list = []\n",
        "    for node_label in nodes_labels_list:\n",
        "        nodes_labels_df = get_different_labels_nodeDF(graph, node_label[0], nodes_labels_list)\n",
        "        nodes_df_list.append(nodes_labels_df)\n",
        "\n",
        "    return nodes_df_list, nodes_labels_list"
      ],
      "metadata": {
        "id": "CUQvSOiOx9mP"
      },
      "execution_count": 421,
      "outputs": []
    },
    {
      "cell_type": "code",
      "source": [
        "# Get a node dictionary with format:\n",
        "# {\"node label\" : node's data frame}\n",
        "def get_nodes_dictionary(nodes_df_list):\n",
        "    nodes_dictionary = {}\n",
        "    values = nodes_df_list\n",
        "    for i in range(len(nodes_df_list)):\n",
        "        if i == 0:\n",
        "            nodes_dictionary[\"nodes\"] = values[i]\n",
        "        else:\n",
        "            df = nodes_dictionary[\"nodes\"]\n",
        "            df = df.append(values[i])\n",
        "            nodes_dictionary[\"nodes\"] = df\n",
        "    return nodes_dictionary"
      ],
      "metadata": {
        "id": "LEHcSAqDyA9Q"
      },
      "execution_count": 422,
      "outputs": []
    },
    {
      "cell_type": "code",
      "source": [
        "nodes_df_list, nodes_labels_list= match_all_nodes_in_hetio(Hetio_graph)"
      ],
      "metadata": {
        "id": "O1MD8diJyCmd"
      },
      "execution_count": 423,
      "outputs": []
    },
    {
      "cell_type": "code",
      "source": [
        "nodes_dic = get_nodes_dictionary(nodes_df_list)"
      ],
      "metadata": {
        "id": "4jwpaRo7yEU9"
      },
      "execution_count": 424,
      "outputs": []
    },
    {
      "cell_type": "markdown",
      "source": [
        "### Import Hetionet into stellargraph"
      ],
      "metadata": {
        "id": "7oXs7c3YxBQn"
      }
    },
    {
      "cell_type": "code",
      "source": [
        "G  = StellarGraph(nodes = nodes_dic, edges=edges_dic)\n",
        "print(G.info())"
      ],
      "metadata": {
        "colab": {
          "base_uri": "https://localhost:8080/"
        },
        "id": "lkEfviezxHOz",
        "outputId": "42c9d6af-f754-469f-eb46-2b52ece3d4b2"
      },
      "execution_count": 425,
      "outputs": [
        {
          "output_type": "stream",
          "name": "stdout",
          "text": [
            "StellarGraph: Undirected multigraph\n",
            " Nodes: 47031, Edges: 2250197\n",
            "\n",
            " Node types:\n",
            "  nodes: [47031]\n",
            "    Features: float32 vector, length 1\n",
            "    Edge types: nodes-edges->nodes\n",
            "\n",
            " Edge types:\n",
            "    nodes-edges->nodes: [2250197]\n",
            "        Weights: all 1 (default)\n",
            "        Features: float32 vector, length 1\n"
          ]
        }
      ]
    },
    {
      "cell_type": "markdown",
      "source": [
        "### Data Splitting"
      ],
      "metadata": {
        "id": "UzMGQhdRy_SL"
      }
    },
    {
      "cell_type": "code",
      "source": [
        "edges = G.edges(include_edge_type = True)"
      ],
      "metadata": {
        "id": "AXzUaB7AzKHd"
      },
      "execution_count": 454,
      "outputs": []
    },
    {
      "cell_type": "code",
      "source": [
        "complex_edge_df = get_complex_edge_df(edges)"
      ],
      "metadata": {
        "id": "E6pXFYRVzPV5"
      },
      "execution_count": 455,
      "outputs": []
    },
    {
      "cell_type": "code",
      "source": [
        "train, validation, test = np.split(complex_edge_df.sample(frac = 1, random_state = 42),\n",
        "                                    [int(.7*len(complex_edge_df)), int(.9*len(complex_edge_df))])"
      ],
      "metadata": {
        "id": "XRivfVpEzSPf"
      },
      "execution_count": 456,
      "outputs": []
    },
    {
      "cell_type": "markdown",
      "source": [
        "### Generator"
      ],
      "metadata": {
        "id": "0T6LdKmIzYFO"
      }
    },
    {
      "cell_type": "code",
      "source": [
        "generator = KGTripleGenerator(\n",
        "    G, batch_size = len(train) // 100\n",
        ")"
      ],
      "metadata": {
        "id": "hiGrUSwJzaQS"
      },
      "execution_count": 470,
      "outputs": []
    },
    {
      "cell_type": "code",
      "source": [
        "train_gen = generator.flow(\n",
        "    train, negative_samples = negative_samples, shuffle = True\n",
        ")\n",
        "\n",
        "test_gen = generator.flow(\n",
        "    test, negative_samples = negative_samples, shuffle = True\n",
        ")\n",
        "\n",
        "validation_gen = generator.flow(\n",
        "    validation, negative_samples = negative_samples\n",
        ")"
      ],
      "metadata": {
        "id": "U-plWGlYzdwq"
      },
      "execution_count": 471,
      "outputs": []
    },
    {
      "cell_type": "code",
      "source": [
        "Complex = ComplEx(\n",
        "    generator,\n",
        "    embedding_dimension = embedding_dimension,\n",
        "    embeddings_regularizer = regularizers.l2(1e-7)\n",
        ")"
      ],
      "metadata": {
        "id": "Tk5uCe7nzgNX"
      },
      "execution_count": 472,
      "outputs": []
    },
    {
      "cell_type": "markdown",
      "source": [
        "### Model"
      ],
      "metadata": {
        "id": "I9Yya2UAzlYL"
      }
    },
    {
      "cell_type": "code",
      "source": [
        "x_inp, x_out = Complex.in_out_tensors()"
      ],
      "metadata": {
        "id": "87CsGztkznWF"
      },
      "execution_count": 473,
      "outputs": []
    },
    {
      "cell_type": "code",
      "source": [
        "model = Model(inputs = x_inp, outputs = x_out)"
      ],
      "metadata": {
        "id": "IGeywyw-zqSV"
      },
      "execution_count": 474,
      "outputs": []
    },
    {
      "cell_type": "code",
      "source": [
        "model.compile(\n",
        "    optimizer = optimizers.Adam(learning_rate = learning_rate),\n",
        "    loss = losses.BinaryCrossentropy(from_logits = True),\n",
        "    metrics = [metrics.BinaryAccuracy(threshold = 0.0)],\n",
        ")"
      ],
      "metadata": {
        "id": "lR8ysqLTzsio"
      },
      "execution_count": 475,
      "outputs": []
    },
    {
      "cell_type": "markdown",
      "source": [
        "### Evaluate"
      ],
      "metadata": {
        "id": "FHXLh8M38rLr"
      }
    },
    {
      "cell_type": "code",
      "source": [
        "init_train_metrics = model.evaluate(train_gen)\n",
        "init_test_metrics = model.evaluate(test_gen)\n",
        "\n",
        "print(\"\\nTrain Set Metrics of the initial (untrained) model:\")\n",
        "for name, val in zip(model.metrics_names, init_train_metrics):\n",
        "    print(\"\\t{}: {:0.4f}\".format(name, val))\n",
        "\n",
        "print(\"\\nTest Set Metrics of the initial (untrained) model:\")\n",
        "for name, val in zip(model.metrics_names, init_test_metrics):\n",
        "    print(\"\\t{}: {:0.4f}\".format(name, val))"
      ],
      "metadata": {
        "colab": {
          "base_uri": "https://localhost:8080/"
        },
        "id": "kvKo-rDA8sry",
        "outputId": "cd47dae0-709b-4993-ff35-7234ebb1df5d"
      },
      "execution_count": 476,
      "outputs": [
        {
          "output_type": "stream",
          "name": "stdout",
          "text": [
            "101/101 [==============================] - 2s 14ms/step - loss: 0.6979 - binary_accuracy: 0.4999\n",
            "15/15 [==============================] - 0s 14ms/step - loss: 0.6979 - binary_accuracy: 0.4997\n",
            "\n",
            "Train Set Metrics of the initial (untrained) model:\n",
            "\tloss: 0.6979\n",
            "\tbinary_accuracy: 0.4999\n",
            "\n",
            "Test Set Metrics of the initial (untrained) model:\n",
            "\tloss: 0.6979\n",
            "\tbinary_accuracy: 0.4997\n"
          ]
        }
      ]
    },
    {
      "cell_type": "markdown",
      "source": [
        "### Train"
      ],
      "metadata": {
        "id": "MU7JTuFVzvf0"
      }
    },
    {
      "cell_type": "code",
      "source": [
        "es = callbacks.EarlyStopping(monitor = \"val_loss\", patience = 10)"
      ],
      "metadata": {
        "id": "txFgE_-4zzAR"
      },
      "execution_count": 477,
      "outputs": []
    },
    {
      "cell_type": "code",
      "source": [
        "history = model.fit(\n",
        "    train_gen, validation_data = test_gen, epochs = epochs, callbacks = [es]\n",
        "    )"
      ],
      "metadata": {
        "colab": {
          "base_uri": "https://localhost:8080/"
        },
        "id": "zRqZDGV7z17A",
        "outputId": "c7f05b16-c04e-47ad-8047-693d0e7f286e"
      },
      "execution_count": 478,
      "outputs": [
        {
          "output_type": "stream",
          "name": "stdout",
          "text": [
            "Epoch 1/20\n",
            "101/101 [==============================] - 9s 74ms/step - loss: 0.6977 - binary_accuracy: 0.5002 - val_loss: 0.6975 - val_binary_accuracy: 0.5006\n",
            "Epoch 2/20\n",
            "101/101 [==============================] - 8s 75ms/step - loss: 0.6972 - binary_accuracy: 0.5030 - val_loss: 0.6969 - val_binary_accuracy: 0.5071\n",
            "Epoch 3/20\n",
            "101/101 [==============================] - 7s 72ms/step - loss: 0.6961 - binary_accuracy: 0.5638 - val_loss: 0.6933 - val_binary_accuracy: 0.7289\n",
            "Epoch 4/20\n",
            "101/101 [==============================] - 8s 76ms/step - loss: 0.6566 - binary_accuracy: 0.8774 - val_loss: 0.5726 - val_binary_accuracy: 0.9090\n",
            "Epoch 5/20\n",
            "101/101 [==============================] - 8s 76ms/step - loss: 0.4481 - binary_accuracy: 0.9090 - val_loss: 0.3436 - val_binary_accuracy: 0.9090\n",
            "Epoch 6/20\n",
            "101/101 [==============================] - 8s 76ms/step - loss: 0.2886 - binary_accuracy: 0.9088 - val_loss: 0.2546 - val_binary_accuracy: 0.9094\n",
            "Epoch 7/20\n",
            "101/101 [==============================] - 7s 74ms/step - loss: 0.2362 - binary_accuracy: 0.9122 - val_loss: 0.2249 - val_binary_accuracy: 0.9140\n",
            "Epoch 8/20\n",
            "101/101 [==============================] - 8s 75ms/step - loss: 0.2156 - binary_accuracy: 0.9161 - val_loss: 0.2124 - val_binary_accuracy: 0.9163\n",
            "Epoch 9/20\n",
            "101/101 [==============================] - 8s 76ms/step - loss: 0.2051 - binary_accuracy: 0.9183 - val_loss: 0.2054 - val_binary_accuracy: 0.9179\n",
            "Epoch 10/20\n",
            "101/101 [==============================] - 8s 75ms/step - loss: 0.1976 - binary_accuracy: 0.9206 - val_loss: 0.1996 - val_binary_accuracy: 0.9199\n",
            "Epoch 11/20\n",
            "101/101 [==============================] - 7s 73ms/step - loss: 0.1901 - binary_accuracy: 0.9238 - val_loss: 0.1937 - val_binary_accuracy: 0.9222\n",
            "Epoch 12/20\n",
            "101/101 [==============================] - 8s 75ms/step - loss: 0.1820 - binary_accuracy: 0.9276 - val_loss: 0.1876 - val_binary_accuracy: 0.9249\n",
            "Epoch 13/20\n",
            "101/101 [==============================] - 7s 73ms/step - loss: 0.1741 - binary_accuracy: 0.9315 - val_loss: 0.1829 - val_binary_accuracy: 0.9270\n",
            "Epoch 14/20\n",
            "101/101 [==============================] - 8s 75ms/step - loss: 0.1665 - binary_accuracy: 0.9350 - val_loss: 0.1792 - val_binary_accuracy: 0.9283\n",
            "Epoch 15/20\n",
            "101/101 [==============================] - 8s 76ms/step - loss: 0.1600 - binary_accuracy: 0.9380 - val_loss: 0.1765 - val_binary_accuracy: 0.9295\n",
            "Epoch 16/20\n",
            "101/101 [==============================] - 7s 73ms/step - loss: 0.1542 - binary_accuracy: 0.9406 - val_loss: 0.1751 - val_binary_accuracy: 0.9302\n",
            "Epoch 17/20\n",
            "101/101 [==============================] - 8s 76ms/step - loss: 0.1491 - binary_accuracy: 0.9430 - val_loss: 0.1745 - val_binary_accuracy: 0.9306\n",
            "Epoch 18/20\n",
            "101/101 [==============================] - 8s 75ms/step - loss: 0.1446 - binary_accuracy: 0.9449 - val_loss: 0.1747 - val_binary_accuracy: 0.9306\n",
            "Epoch 19/20\n",
            "101/101 [==============================] - 7s 74ms/step - loss: 0.1402 - binary_accuracy: 0.9469 - val_loss: 0.1748 - val_binary_accuracy: 0.9307\n",
            "Epoch 20/20\n",
            "101/101 [==============================] - 8s 75ms/step - loss: 0.1364 - binary_accuracy: 0.9487 - val_loss: 0.1762 - val_binary_accuracy: 0.9308\n"
          ]
        }
      ]
    },
    {
      "cell_type": "code",
      "source": [
        "utils.plot_history(history)"
      ],
      "metadata": {
        "colab": {
          "base_uri": "https://localhost:8080/",
          "height": 585
        },
        "id": "3a-OJCPg0JR5",
        "outputId": "9b614566-b790-429a-9155-0398a58090aa"
      },
      "execution_count": 479,
      "outputs": [
        {
          "output_type": "display_data",
          "data": {
            "text/plain": [
              "<Figure size 504x576 with 2 Axes>"
            ],
            "image/png": "[encoded data removed]"
          },
          "metadata": {
            "needs_background": "light"
          }
        }
      ]
    },
    {
      "cell_type": "code",
      "source": [
        "init_val_metrics = model.evaluate(validation_gen)\n",
        "\n",
        "print(\"\\nValidation Set Metrics of the initial (untrained) model:\")\n",
        "for name, val in zip(model.metrics_names, init_val_metrics):\n",
        "    print(\"\\t{}: {:0.4f}\".format(name, val))"
      ],
      "metadata": {
        "colab": {
          "base_uri": "https://localhost:8080/"
        },
        "id": "WQMXlVeh85X8",
        "outputId": "a35842d8-a49d-4f6a-811f-cb3a38678a58"
      },
      "execution_count": 480,
      "outputs": [
        {
          "output_type": "stream",
          "name": "stdout",
          "text": [
            "29/29 [==============================] - 0s 14ms/step - loss: 0.1760 - binary_accuracy: 0.9307\n",
            "\n",
            "Validation Set Metrics of the initial (untrained) model:\n",
            "\tloss: 0.1760\n",
            "\tbinary_accuracy: 0.9307\n"
          ]
        }
      ]
    },
    {
      "cell_type": "markdown",
      "source": [
        "## Applying ComplEx on Hetionet (heterogeneous)"
      ],
      "metadata": {
        "id": "ShYorBOusIIV"
      }
    },
    {
      "cell_type": "markdown",
      "source": [
        "### Edges"
      ],
      "metadata": {
        "id": "we6qhodI029g"
      }
    },
    {
      "cell_type": "code",
      "source": [
        "def get_edges_type_list(graph):\n",
        "    # Cypher for matching all the types of edges \n",
        "    query_findAllTypeOfEdges = '''\n",
        "    match ()-[r]->() return distinct type(r)\n",
        "    '''\n",
        "    edges_type_df = match_in_hetio(graph, query_findAllTypeOfEdges)\n",
        "    edges_type_list = []\n",
        "    type_num = len(edges_type_df)\n",
        "\n",
        "    # Add all types in edges_type_list\n",
        "    for i in range(type_num):\n",
        "        edges_type_list.append(edges_type_df['type(r)'][i])\n",
        "    \n",
        "    return edges_type_list"
      ],
      "metadata": {
        "id": "4-mtquuisMvo"
      },
      "execution_count": 481,
      "outputs": []
    },
    {
      "cell_type": "code",
      "source": [
        "# Return a single type's edge data frame\n",
        "def get_different_type_edgeDF(graph, edge_type, edges_type_list):\n",
        "    str1 = '''match (n)-[r:'''\n",
        "    str2 = edge_type\n",
        "    str3 = ''']->(m) return \n",
        "    n.identifier as source, \n",
        "    m.identifier as target, \n",
        "    r.unbiased as unbiased\n",
        "    '''\n",
        "    query = str1 + str2 + str3\n",
        "    edge_type_df = match_in_hetio(graph, query)\n",
        "    # temp = map_edge_type(graph, edge_type, edges_type_list)\n",
        "    # edge_label_list = []\n",
        "    # for i in range(len(edge_type_df)):\n",
        "    #     edge_label_list.append(temp[0])\n",
        "    # edge_type_df[\"edge_label\"] = edge_label_list\n",
        "    return edge_type_df"
      ],
      "metadata": {
        "id": "cT7A-Emp1Hvs"
      },
      "execution_count": 482,
      "outputs": []
    },
    {
      "cell_type": "code",
      "source": [
        "# Return a list which contains different types of edges' data frame\n",
        "# And a list which includes all types of edges\n",
        "\n",
        "def match_all_edges_in_hetio(graph):\n",
        "    edges_type_list = get_edges_type_list(graph)\n",
        "    # Get all edges' dataframe and store in edges_df_list\n",
        "    edges_df_list = []\n",
        "    for edge_type in edges_type_list:\n",
        "        edge_type_df = get_different_type_edgeDF(graph, edge_type, edges_type_list)\n",
        "        edges_df_list.append(edge_type_df)\n",
        "\n",
        "    return edges_df_list, edges_type_list"
      ],
      "metadata": {
        "id": "VG84WBp91Jwz"
      },
      "execution_count": 483,
      "outputs": []
    },
    {
      "cell_type": "code",
      "source": [
        "# Get a edge dictionary with format:\n",
        "# {\"edge type\" : edge's data frame}\n",
        "def get_edges_dictionary(edges_df_list, edges_type_list):\n",
        "    edges_dictionary = {}\n",
        "    keys = edges_type_list\n",
        "    values = edges_df_list\n",
        "    for i in range(len(edges_type_list)):\n",
        "        edges_dictionary[keys[i]] = values[i]\n",
        "    return edges_dictionary"
      ],
      "metadata": {
        "id": "Rh-o6e_c1MMy"
      },
      "execution_count": 484,
      "outputs": []
    },
    {
      "cell_type": "code",
      "source": [
        "def add_index(df_list):\n",
        "    iter_num = 0\n",
        "    for i in range(len(df_list)):\n",
        "        df = df_list[i]\n",
        "        num = len(df)\n",
        "        temp = iter_num + num\n",
        "        index_list = range(iter_num, temp)\n",
        "        df['index'] = index_list\n",
        "        iter_num = temp\n",
        "        df_list[i] = df.set_index('index')\n",
        "    return df_list"
      ],
      "metadata": {
        "id": "eTy-Yxl-1N3A"
      },
      "execution_count": 485,
      "outputs": []
    },
    {
      "cell_type": "code",
      "source": [
        "edges_df_list, edges_type_list = match_all_edges_in_hetio(Hetio_graph)\n",
        "edges_df_list = add_index(edges_df_list)\n",
        "edges_dictionary = get_edges_dictionary(edges_df_list, edges_type_list)"
      ],
      "metadata": {
        "id": "YcUrvS6M1PpG"
      },
      "execution_count": 486,
      "outputs": []
    },
    {
      "cell_type": "markdown",
      "source": [
        "### Nodes"
      ],
      "metadata": {
        "id": "pW9J16BY1c6G"
      }
    },
    {
      "cell_type": "code",
      "source": [
        "# map property chromosome into numerical form\n",
        "def chromosome_into_num(node_type_df):\n",
        "    c_list = [\"0\",\"1\",\"2\",\"3\",\"4\",\"5\",\"6\",\"7\",\"8\",\"9\",\"10\",\"11\",\"12\",\"13\",\"14\",\"15\",\"16\",\"17\",\"18\",\"19\",\"20\",\"21\",\"22\",\n",
        "    \"X\",\"Y\",\"Un\",\"MT\",\"X|Y\"]\n",
        "    l = node_type_df.chromosome\n",
        "    list = []\n",
        "    for i in range(len(l)):\n",
        "        list.append(l[i])\n",
        "    le = preprocessing.LabelEncoder()\n",
        "    le.fit(c_list)\n",
        "    t_list = le.transform(list)\n",
        "    node_type_df[\"chromosome\"] = t_list\n",
        "    return node_type_df"
      ],
      "metadata": {
        "id": "yk-ycdLb1tsx"
      },
      "execution_count": 487,
      "outputs": []
    },
    {
      "cell_type": "code",
      "source": [
        "# map property class_type into numerical form\n",
        "def class_type_into_num(node_type_df):\n",
        "    c_list = [\"Chemical/Ingredient\",\"Physiologic Effect\",\"Mechanism of Action\"]\n",
        "    l = node_type_df.class_type\n",
        "    list = []\n",
        "    for i in range(len(l)):\n",
        "        list.append(l[i])\n",
        "    le = preprocessing.LabelEncoder()\n",
        "    le.fit(c_list)\n",
        "    t_list = le.transform(list)\n",
        "    node_type_df[\"class_type\"] = t_list\n",
        "    return node_type_df"
      ],
      "metadata": {
        "id": "dAzcjEkC14Sx"
      },
      "execution_count": 488,
      "outputs": []
    },
    {
      "cell_type": "code",
      "source": [
        "# Return a single labels' node data frame\n",
        "def get_different_labels_nodeDF(graph, node_label):\n",
        "    str1 = '''match (n:'''\n",
        "    str2 = node_label\n",
        "    str3 = ''') return \n",
        "    n.identifier as index\n",
        "    '''\n",
        "    query = str1 + str2 + str3\n",
        "\n",
        "    # match the node\n",
        "    node_type_df = match_in_hetio(graph, query)\n",
        "    \n",
        "    node_type_df = node_type_df.set_index(\"index\")\n",
        "    return node_type_df"
      ],
      "metadata": {
        "id": "1JVRd1Dw17NU"
      },
      "execution_count": 489,
      "outputs": []
    },
    {
      "cell_type": "code",
      "source": [
        "def get_nodes_labels_list(graph):\n",
        "    query_findAllLabelsofNodes = '''\n",
        "    match (n) return distinct labels(n)\n",
        "    '''\n",
        "    nodes_labels_df = match_in_hetio(graph, query_findAllLabelsofNodes)\n",
        "    nodes_labels_list = []\n",
        "    labels_num = len(nodes_labels_df)\n",
        "\n",
        "    # Add all labels in nodes_labels_list\n",
        "    for i in range(labels_num):\n",
        "        nodes_labels_list.append(nodes_labels_df['labels(n)'][i])\n",
        "    return nodes_labels_list"
      ],
      "metadata": {
        "id": "sqx6fdoy2Brq"
      },
      "execution_count": 490,
      "outputs": []
    },
    {
      "cell_type": "code",
      "source": [
        "# Return a list which contains different labels of nodes' data frame\n",
        "# And a list which includes all labels of nodes\n",
        "\n",
        "def match_all_nodes_in_hetio(graph):\n",
        "    nodes_labels_list = get_nodes_labels_list(graph)\n",
        "    \n",
        "    # Get all nodes' dataframe and store in nodes_df_list\n",
        "    nodes_df_list = []\n",
        "    for node_label in nodes_labels_list:\n",
        "        nodes_labels_df = get_different_labels_nodeDF(graph, node_label[0])\n",
        "        nodes_df_list.append(nodes_labels_df)\n",
        "\n",
        "    return nodes_df_list, nodes_labels_list"
      ],
      "metadata": {
        "id": "P-bBEdKp2Ez0"
      },
      "execution_count": 491,
      "outputs": []
    },
    {
      "cell_type": "code",
      "source": [
        "# Get a node dictionary with format:\n",
        "# {\"node label\" : node's data frame}\n",
        "def get_nodes_dictionary(nodes_df_list, nodes_labels_list):\n",
        "    nodes_dictionary = {}\n",
        "    keys = nodes_labels_list\n",
        "    values = nodes_df_list\n",
        "    for i in range(len(nodes_labels_list)):\n",
        "        nodes_dictionary[keys[i][0]] = values[i]\n",
        "    return nodes_dictionary"
      ],
      "metadata": {
        "id": "lnMtteSV2GWH"
      },
      "execution_count": 492,
      "outputs": []
    },
    {
      "cell_type": "code",
      "source": [
        "nodes_df_list, nodes_labels_list= match_all_nodes_in_hetio(Hetio_graph)"
      ],
      "metadata": {
        "id": "q-kc1b8i2IBV"
      },
      "execution_count": 493,
      "outputs": []
    },
    {
      "cell_type": "code",
      "source": [
        "nodes_dictionary = get_nodes_dictionary(nodes_df_list, nodes_labels_list)"
      ],
      "metadata": {
        "id": "r_ZEwo502d7p"
      },
      "execution_count": 494,
      "outputs": []
    },
    {
      "cell_type": "markdown",
      "source": [
        "### Import into stellargraph"
      ],
      "metadata": {
        "id": "uQ1v0_3i05gx"
      }
    },
    {
      "cell_type": "code",
      "source": [
        "G  = StellarGraph(nodes = nodes_dictionary, edges=edges_dictionary)\n",
        "print(G.info())"
      ],
      "metadata": {
        "colab": {
          "base_uri": "https://localhost:8080/"
        },
        "id": "eLwBB_Tc08Xw",
        "outputId": "30e0ccb9-ad0b-43d1-96c8-3277f5bd0278"
      },
      "execution_count": 495,
      "outputs": [
        {
          "output_type": "stream",
          "name": "stdout",
          "text": [
            "StellarGraph: Undirected multigraph\n",
            " Nodes: 47031, Edges: 2250197\n",
            "\n",
            " Node types:\n",
            "  Gene: [20945]\n",
            "    Features: none\n",
            "    Edge types: Gene-ASSOCIATES_DaG->Disease, Gene-BINDS_CbG->Compound, Gene-COVARIES_GcG->Gene, Gene-DOWNREGULATES_AdG->Anatomy, Gene-DOWNREGULATES_CdG->Compound, ... (11 more)\n",
            "  BiologicalProcess: [11381]\n",
            "    Features: none\n",
            "    Edge types: BiologicalProcess-PARTICIPATES_GpBP->Gene\n",
            "  SideEffect: [5734]\n",
            "    Features: none\n",
            "    Edge types: SideEffect-CAUSES_CcSE->Compound\n",
            "  MolecularFunction: [2884]\n",
            "    Features: none\n",
            "    Edge types: MolecularFunction-PARTICIPATES_GpMF->Gene\n",
            "  Pathway: [1822]\n",
            "    Features: none\n",
            "    Edge types: Pathway-PARTICIPATES_GpPW->Gene\n",
            "  Compound: [1552]\n",
            "    Features: none\n",
            "    Edge types: Compound-BINDS_CbG->Gene, Compound-CAUSES_CcSE->SideEffect, Compound-DOWNREGULATES_CdG->Gene, Compound-INCLUDES_PCiC->PharmacologicClass, Compound-PALLIATES_CpD->Disease, ... (3 more)\n",
            "  CellularComponent: [1391]\n",
            "    Features: none\n",
            "    Edge types: CellularComponent-PARTICIPATES_GpCC->Gene\n",
            "  Symptom: [438]\n",
            "    Features: none\n",
            "    Edge types: Symptom-PRESENTS_DpS->Disease\n",
            "  Anatomy: [402]\n",
            "    Features: none\n",
            "    Edge types: Anatomy-DOWNREGULATES_AdG->Gene, Anatomy-EXPRESSES_AeG->Gene, Anatomy-LOCALIZES_DlA->Disease, Anatomy-UPREGULATES_AuG->Gene\n",
            "  PharmacologicClass: [345]\n",
            "    Features: none\n",
            "    Edge types: PharmacologicClass-INCLUDES_PCiC->Compound\n",
            "  Disease: [137]\n",
            "    Features: none\n",
            "    Edge types: Disease-ASSOCIATES_DaG->Gene, Disease-DOWNREGULATES_DdG->Gene, Disease-LOCALIZES_DlA->Anatomy, Disease-PALLIATES_CpD->Compound, Disease-PRESENTS_DpS->Symptom, ... (3 more)\n",
            "\n",
            " Edge types:\n",
            "    BiologicalProcess-PARTICIPATES_GpBP->Gene: [559504]\n",
            "        Weights: all 1 (default)\n",
            "        Features: float32 vector, length 1\n",
            "    Anatomy-EXPRESSES_AeG->Gene: [526407]\n",
            "        Weights: all 1 (default)\n",
            "        Features: float32 vector, length 1\n",
            "    Gene-REGULATES_GrG->Gene: [265672]\n",
            "        Weights: all 1 (default)\n",
            "        Features: float32 vector, length 1\n",
            "    Gene-INTERACTS_GiG->Gene: [147164]\n",
            "        Weights: all 1 (default)\n",
            "        Features: float32 vector, length 1\n",
            "    Compound-CAUSES_CcSE->SideEffect: [138944]\n",
            "        Weights: all 1 (default)\n",
            "        Features: float32 vector, length 1\n",
            "    Anatomy-DOWNREGULATES_AdG->Gene: [102240]\n",
            "        Weights: all 1 (default)\n",
            "        Features: float32 vector, length 1\n",
            "    Anatomy-UPREGULATES_AuG->Gene: [97848]\n",
            "        Weights: all 1 (default)\n",
            "        Features: float32 vector, length 1\n",
            "    Gene-PARTICIPATES_GpMF->MolecularFunction: [97222]\n",
            "        Weights: all 1 (default)\n",
            "        Features: float32 vector, length 1\n",
            "    Gene-PARTICIPATES_GpPW->Pathway: [84372]\n",
            "        Weights: all 1 (default)\n",
            "        Features: float32 vector, length 1\n",
            "    CellularComponent-PARTICIPATES_GpCC->Gene: [73566]\n",
            "        Weights: all 1 (default)\n",
            "        Features: float32 vector, length 1\n",
            "    Gene-COVARIES_GcG->Gene: [61690]\n",
            "        Weights: all 1 (default)\n",
            "        Features: float32 vector, length 1\n",
            "    Compound-DOWNREGULATES_CdG->Gene: [21102]\n",
            "        Weights: all 1 (default)\n",
            "        Features: float32 vector, length 1\n",
            "    Compound-UPREGULATES_CuG->Gene: [18756]\n",
            "        Weights: all 1 (default)\n",
            "        Features: float32 vector, length 1\n",
            "    Disease-ASSOCIATES_DaG->Gene: [12623]\n",
            "        Weights: all 1 (default)\n",
            "        Features: float32 vector, length 1\n",
            "    Compound-BINDS_CbG->Gene: [11571]\n",
            "        Weights: all 1 (default)\n",
            "        Features: float32 vector, length 1\n",
            "    Disease-UPREGULATES_DuG->Gene: [7731]\n",
            "        Weights: all 1 (default)\n",
            "        Features: float32 vector, length 1\n",
            "    Disease-DOWNREGULATES_DdG->Gene: [7623]\n",
            "        Weights: all 1 (default)\n",
            "        Features: float32 vector, length 1\n",
            "    Compound-RESEMBLES_CrC->Compound: [6486]\n",
            "        Weights: all 1 (default)\n",
            "        Features: float32 vector, length 1\n",
            "    Anatomy-LOCALIZES_DlA->Disease: [3602]\n",
            "        Weights: all 1 (default)\n",
            "        Features: float32 vector, length 1\n",
            "    Disease-PRESENTS_DpS->Symptom: [3357]\n",
            "        Weights: all 1 (default)\n",
            "        Features: float32 vector, length 1\n",
            "    ... (4 more)\n"
          ]
        }
      ]
    },
    {
      "cell_type": "markdown",
      "source": [
        "### Data Splitting"
      ],
      "metadata": {
        "id": "PHdnDTYS0WBr"
      }
    },
    {
      "cell_type": "code",
      "source": [
        "edges = G.edges(include_edge_type = True)"
      ],
      "metadata": {
        "id": "b7nN6flI0WBs"
      },
      "execution_count": 496,
      "outputs": []
    },
    {
      "cell_type": "code",
      "source": [
        "complex_edge_df = get_complex_edge_df(edges)"
      ],
      "metadata": {
        "id": "6mjos3ed0WBs"
      },
      "execution_count": 497,
      "outputs": []
    },
    {
      "cell_type": "code",
      "source": [
        "train, validation, test = np.split(complex_edge_df.sample(frac = 1, random_state = 42),\n",
        "                                    [int(.7*len(complex_edge_df)), int(.9*len(complex_edge_df))])"
      ],
      "metadata": {
        "id": "numEer_j0WBs"
      },
      "execution_count": 498,
      "outputs": []
    },
    {
      "cell_type": "markdown",
      "source": [
        "### Generator"
      ],
      "metadata": {
        "id": "7HGBTTsj0ewj"
      }
    },
    {
      "cell_type": "code",
      "source": [
        "generator = KGTripleGenerator(\n",
        "    G, batch_size = len(train) // 100\n",
        ")"
      ],
      "metadata": {
        "id": "dw85jqOV0ewj"
      },
      "execution_count": 499,
      "outputs": []
    },
    {
      "cell_type": "code",
      "source": [
        "train_gen = generator.flow(\n",
        "    train, negative_samples = negative_samples, shuffle = True\n",
        ")\n",
        "\n",
        "test_gen = generator.flow(\n",
        "    test, negative_samples = negative_samples, shuffle = True\n",
        ")\n",
        "\n",
        "validation_gen = generator.flow(\n",
        "    validation, negative_samples = negative_samples\n",
        ")"
      ],
      "metadata": {
        "id": "gLckInsu0ewj"
      },
      "execution_count": 500,
      "outputs": []
    },
    {
      "cell_type": "code",
      "source": [
        "Complex = ComplEx(\n",
        "    generator,\n",
        "    embedding_dimension = embedding_dimension,\n",
        "    embeddings_regularizer = regularizers.l2(1e-7)\n",
        ")"
      ],
      "metadata": {
        "id": "Yf2ggAsh0ewk"
      },
      "execution_count": 501,
      "outputs": []
    },
    {
      "cell_type": "markdown",
      "source": [
        "### Model"
      ],
      "metadata": {
        "id": "9P7QKd5e0kDv"
      }
    },
    {
      "cell_type": "code",
      "source": [
        "x_inp, x_out = Complex.in_out_tensors()"
      ],
      "metadata": {
        "id": "Z6NaoVHt0kDw"
      },
      "execution_count": 502,
      "outputs": []
    },
    {
      "cell_type": "code",
      "source": [
        "model = Model(inputs = x_inp, outputs = x_out)"
      ],
      "metadata": {
        "id": "5juB-EQI0kDw"
      },
      "execution_count": 503,
      "outputs": []
    },
    {
      "cell_type": "code",
      "source": [
        "model.compile(\n",
        "    optimizer = optimizers.Adam(learning_rate = learning_rate),\n",
        "    loss = losses.BinaryCrossentropy(from_logits = True),\n",
        "    metrics = [metrics.BinaryAccuracy(threshold = 0.0)],\n",
        ")"
      ],
      "metadata": {
        "id": "Hw5FpHEZ0kDw"
      },
      "execution_count": 504,
      "outputs": []
    },
    {
      "cell_type": "markdown",
      "source": [
        "### Evaluate"
      ],
      "metadata": {
        "id": "C29BWOYw_3Yn"
      }
    },
    {
      "cell_type": "code",
      "source": [
        "init_train_metrics = model.evaluate(train_gen)\n",
        "init_test_metrics = model.evaluate(test_gen)\n",
        "\n",
        "print(\"\\nTrain Set Metrics of the initial (untrained) model:\")\n",
        "for name, val in zip(model.metrics_names, init_train_metrics):\n",
        "    print(\"\\t{}: {:0.4f}\".format(name, val))\n",
        "\n",
        "print(\"\\nTest Set Metrics of the initial (untrained) model:\")\n",
        "for name, val in zip(model.metrics_names, init_test_metrics):\n",
        "    print(\"\\t{}: {:0.4f}\".format(name, val))"
      ],
      "metadata": {
        "colab": {
          "base_uri": "https://localhost:8080/"
        },
        "id": "uxNseGie_40V",
        "outputId": "de7e2d4e-7f1f-4c6e-a71d-5156f9d97791"
      },
      "execution_count": 505,
      "outputs": [
        {
          "output_type": "stream",
          "name": "stdout",
          "text": [
            "101/101 [==============================] - 2s 14ms/step - loss: 0.6979 - binary_accuracy: 0.5000\n",
            "15/15 [==============================] - 0s 13ms/step - loss: 0.6979 - binary_accuracy: 0.5008\n",
            "\n",
            "Train Set Metrics of the initial (untrained) model:\n",
            "\tloss: 0.6979\n",
            "\tbinary_accuracy: 0.5000\n",
            "\n",
            "Test Set Metrics of the initial (untrained) model:\n",
            "\tloss: 0.6979\n",
            "\tbinary_accuracy: 0.5008\n"
          ]
        }
      ]
    },
    {
      "cell_type": "markdown",
      "metadata": {
        "id": "KYCJ0oLn0nF2"
      },
      "source": [
        "### Train"
      ]
    },
    {
      "cell_type": "code",
      "execution_count": 506,
      "metadata": {
        "id": "y8ZeEc2J0nF3"
      },
      "outputs": [],
      "source": [
        "es = callbacks.EarlyStopping(monitor = \"val_loss\", patience = 10)"
      ]
    },
    {
      "cell_type": "code",
      "execution_count": 507,
      "metadata": {
        "colab": {
          "base_uri": "https://localhost:8080/"
        },
        "outputId": "e8fa2d3e-4317-4bed-f27d-5a5b8f3015ab",
        "id": "iYlkx_1P0nF4"
      },
      "outputs": [
        {
          "output_type": "stream",
          "name": "stdout",
          "text": [
            "Epoch 1/20\n",
            "101/101 [==============================] - 7s 55ms/step - loss: 0.6977 - binary_accuracy: 0.5001 - val_loss: 0.6975 - val_binary_accuracy: 0.5001\n",
            "Epoch 2/20\n",
            "101/101 [==============================] - 5s 53ms/step - loss: 0.6972 - binary_accuracy: 0.5014 - val_loss: 0.6969 - val_binary_accuracy: 0.5016\n",
            "Epoch 3/20\n",
            "101/101 [==============================] - 5s 52ms/step - loss: 0.6966 - binary_accuracy: 0.5068 - val_loss: 0.6963 - val_binary_accuracy: 0.5123\n",
            "Epoch 4/20\n",
            "101/101 [==============================] - 5s 53ms/step - loss: 0.6948 - binary_accuracy: 0.5775 - val_loss: 0.6897 - val_binary_accuracy: 0.7547\n",
            "Epoch 5/20\n",
            "101/101 [==============================] - 5s 53ms/step - loss: 0.6402 - binary_accuracy: 0.8860 - val_loss: 0.5508 - val_binary_accuracy: 0.9090\n",
            "Epoch 6/20\n",
            "101/101 [==============================] - 5s 53ms/step - loss: 0.4269 - binary_accuracy: 0.9086 - val_loss: 0.3240 - val_binary_accuracy: 0.9077\n",
            "Epoch 7/20\n",
            "101/101 [==============================] - 5s 53ms/step - loss: 0.2775 - binary_accuracy: 0.9087 - val_loss: 0.2479 - val_binary_accuracy: 0.9101\n",
            "Epoch 8/20\n",
            "101/101 [==============================] - 5s 53ms/step - loss: 0.2301 - binary_accuracy: 0.9138 - val_loss: 0.2187 - val_binary_accuracy: 0.9163\n",
            "Epoch 9/20\n",
            "101/101 [==============================] - 5s 53ms/step - loss: 0.2085 - binary_accuracy: 0.9190 - val_loss: 0.2036 - val_binary_accuracy: 0.9199\n",
            "Epoch 10/20\n",
            "101/101 [==============================] - 5s 53ms/step - loss: 0.1954 - binary_accuracy: 0.9225 - val_loss: 0.1936 - val_binary_accuracy: 0.9226\n",
            "Epoch 11/20\n",
            "101/101 [==============================] - 5s 53ms/step - loss: 0.1858 - binary_accuracy: 0.9256 - val_loss: 0.1860 - val_binary_accuracy: 0.9250\n",
            "Epoch 12/20\n",
            "101/101 [==============================] - 5s 54ms/step - loss: 0.1775 - binary_accuracy: 0.9288 - val_loss: 0.1793 - val_binary_accuracy: 0.9275\n",
            "Epoch 13/20\n",
            "101/101 [==============================] - 5s 53ms/step - loss: 0.1698 - binary_accuracy: 0.9321 - val_loss: 0.1736 - val_binary_accuracy: 0.9299\n",
            "Epoch 14/20\n",
            "101/101 [==============================] - 5s 52ms/step - loss: 0.1628 - binary_accuracy: 0.9355 - val_loss: 0.1686 - val_binary_accuracy: 0.9320\n",
            "Epoch 15/20\n",
            "101/101 [==============================] - 5s 53ms/step - loss: 0.1564 - binary_accuracy: 0.9386 - val_loss: 0.1646 - val_binary_accuracy: 0.9337\n",
            "Epoch 16/20\n",
            "101/101 [==============================] - 5s 52ms/step - loss: 0.1507 - binary_accuracy: 0.9415 - val_loss: 0.1615 - val_binary_accuracy: 0.9350\n",
            "Epoch 17/20\n",
            "101/101 [==============================] - 5s 53ms/step - loss: 0.1457 - binary_accuracy: 0.9441 - val_loss: 0.1591 - val_binary_accuracy: 0.9361\n",
            "Epoch 18/20\n",
            "101/101 [==============================] - 5s 53ms/step - loss: 0.1410 - binary_accuracy: 0.9464 - val_loss: 0.1576 - val_binary_accuracy: 0.9365\n",
            "Epoch 19/20\n",
            "101/101 [==============================] - 5s 53ms/step - loss: 0.1368 - binary_accuracy: 0.9485 - val_loss: 0.1564 - val_binary_accuracy: 0.9370\n",
            "Epoch 20/20\n",
            "101/101 [==============================] - 5s 53ms/step - loss: 0.1330 - binary_accuracy: 0.9505 - val_loss: 0.1562 - val_binary_accuracy: 0.9370\n"
          ]
        }
      ],
      "source": [
        "history = model.fit(\n",
        "    train_gen, validation_data = validation_gen, epochs = epochs, callbacks = [es]\n",
        "    )"
      ]
    },
    {
      "cell_type": "code",
      "execution_count": 508,
      "metadata": {
        "colab": {
          "base_uri": "https://localhost:8080/",
          "height": 585
        },
        "outputId": "c6e71011-f109-4b74-d15f-1392c9c25f69",
        "id": "OqM_hmu20nF6"
      },
      "outputs": [
        {
          "output_type": "display_data",
          "data": {
            "text/plain": [
              "<Figure size 504x576 with 2 Axes>"
            ],
            "image/png": "[encoded data removed]"
          },
          "metadata": {
            "needs_background": "light"
          }
        }
      ],
      "source": [
        "utils.plot_history(history)"
      ]
    },
    {
      "cell_type": "code",
      "source": [
        "init_val_metrics = model.evaluate(validation_gen)\n",
        "\n",
        "print(\"\\nValidation Set Metrics of the initial (untrained) model:\")\n",
        "for name, val in zip(model.metrics_names, init_val_metrics):\n",
        "    print(\"\\t{}: {:0.4f}\".format(name, val))"
      ],
      "metadata": {
        "colab": {
          "base_uri": "https://localhost:8080/"
        },
        "id": "I6_ZX5p2_7Cb",
        "outputId": "29b4f6fa-aada-4987-cbdb-511a8d6c1e75"
      },
      "execution_count": 509,
      "outputs": [
        {
          "output_type": "stream",
          "name": "stdout",
          "text": [
            "29/29 [==============================] - 0s 13ms/step - loss: 0.1560 - binary_accuracy: 0.9372\n",
            "\n",
            "Validation Set Metrics of the initial (untrained) model:\n",
            "\tloss: 0.1560\n",
            "\tbinary_accuracy: 0.9372\n"
          ]
        }
      ]
    }
  ],
  "metadata": {
    "accelerator": "GPU",
    "colab": {
      "collapsed_sections": [
        "0q-HmyQjw8nj",
        "hieKZFySw_67",
        "7oXs7c3YxBQn"
      ],
      "machine_shape": "hm",
      "name": "Link_prediction_with_GCN_HinSAGE_ComPlEx.ipynb",
      "provenance": []
    },
    "file_extension": ".py",
    "gpuClass": "standard",
    "kernelspec": {
      "display_name": "Python 3.8.3 64-bit",
      "language": "python",
      "name": "python3"
    },
    "language_info": {
      "codemirror_mode": {
        "name": "ipython",
        "version": 3
      },
      "file_extension": ".py",
      "mimetype": "text/x-python",
      "name": "python",
      "nbconvert_exporter": "python",
      "pygments_lexer": "ipython3",
      "version": "3.8.3"
    },
    "mimetype": "text/x-python",
    "name": "python",
    "npconvert_exporter": "python",
    "pygments_lexer": "ipython3",
    "version": 3,
    "vscode": {
      "interpreter": {
        "hash": "81f9c9dcd4d93c64d0814a2b55942fb30a0c4876fb0458ab3442ebf9a91d64e5"
      }
    }
  },
  "nbformat": 4,
  "nbformat_minor": 0
}